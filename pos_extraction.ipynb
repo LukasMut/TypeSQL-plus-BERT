{
 "cells": [
  {
   "cell_type": "code",
   "execution_count": 1,
   "metadata": {
    "ExecuteTime": {
     "end_time": "2019-08-22T11:44:22.204054Z",
     "start_time": "2019-08-22T11:44:03.959219Z"
    }
   },
   "outputs": [],
   "source": [
    "import re\n",
    "import nltk\n",
    "\n",
    "from typesql.utils import *"
   ]
  },
  {
   "cell_type": "code",
   "execution_count": 2,
   "metadata": {
    "ExecuteTime": {
     "end_time": "2019-08-22T11:44:25.132419Z",
     "start_time": "2019-08-22T11:44:22.211765Z"
    },
    "code_folding": []
   },
   "outputs": [
    {
     "name": "stdout",
     "output_type": "stream",
     "text": [
      "Loading from original dataset\n",
      "Loading data from data/train_tok.jsonl\n",
      "Loading data from data/train_tok.tables.jsonl\n",
      "Loading data from data/dev_tok.jsonl\n",
      "Loading data from data/dev_tok.tables.jsonl\n",
      "Loading data from data/test_tok.jsonl\n",
      "Loading data from data/test_tok.tables.jsonl\n"
     ]
    }
   ],
   "source": [
    "sql_data, table_data, val_sql_data, val_table_data, \\\n",
    "            test_sql_data, test_table_data, \\\n",
    "            TRAIN_DB, DEV_DB, TEST_DB = load_dataset(use_small=True) # False (full dataset)"
   ]
  },
  {
   "cell_type": "code",
   "execution_count": null,
   "metadata": {
    "code_folding": [
     0
    ]
   },
   "outputs": [],
   "source": [
    "def concatenate_sql_data(sql_data_train, sql_data_val):\n",
    "    sql_data_train.extend(sql_data_val)\n",
    "    return sql_data_train"
   ]
  },
  {
   "cell_type": "code",
   "execution_count": 9,
   "metadata": {
    "ExecuteTime": {
     "end_time": "2019-08-18T15:11:17.546014Z",
     "start_time": "2019-08-18T15:11:17.537994Z"
    },
    "code_folding": []
   },
   "outputs": [],
   "source": [
    "def annotate_pos(question_tok_concol, pos_tags):\n",
    "    pos_concol = list()\n",
    "    tok_span = 0\n",
    "    for tok_concol in question_tok_concol:\n",
    "        if len(tok_concol) > 1:\n",
    "            tok_span += len(tok_concol)\n",
    "            pos_concol.append([pos for pos in pos_tags[tok_span-len(tok_concol):tok_span]])\n",
    "        else:\n",
    "            pos_concol.append(pos_tags[tok_span].split())\n",
    "            tok_span += 1\n",
    "    return pos_concol"
   ]
  },
  {
   "cell_type": "code",
   "execution_count": 10,
   "metadata": {
    "ExecuteTime": {
     "end_time": "2019-08-18T15:11:22.700863Z",
     "start_time": "2019-08-18T15:11:22.691629Z"
    },
    "code_folding": [
     0
    ]
   },
   "outputs": [],
   "source": [
    "def update_sql_data_pos(sql_data):\n",
    "    \"\"\"\n",
    "    Update SQL data with POS tags for each question.\n",
    "    \"\"\"\n",
    "    for i, question in enumerate(sql_data):\n",
    "        tok_pos_tags = nltk.pos_tag(question['question_tok'])\n",
    "        _, pos_tags = zip(*tok_pos_tags)\n",
    "        assert len(question['question_tok']) == len(pos_tags)\n",
    "        sql_data[i]['question_tok_pos'] = list(pos_tags)\n",
    "        pos_tags_concol = annotate_pos(question['question_tok_concol'], list(pos_tags))\n",
    "        assert len(question['question_tok_concol']) == len(pos_tags_concol)\n",
    "        sql_data[i]['question_tok_concol_pos'] = pos_tags_concol\n",
    "    return sql_data"
   ]
  },
  {
   "cell_type": "code",
   "execution_count": 11,
   "metadata": {
    "ExecuteTime": {
     "end_time": "2019-08-18T15:11:29.354310Z",
     "start_time": "2019-08-18T15:11:27.563291Z"
    }
   },
   "outputs": [],
   "source": [
    "sql_data = update_sql_data_pos(sql_data)"
   ]
  }
 ],
 "metadata": {
  "hide_input": false,
  "kernelspec": {
   "display_name": "Python 3",
   "language": "python",
   "name": "python3"
  },
  "language_info": {
   "codemirror_mode": {
    "name": "ipython",
    "version": 3
   },
   "file_extension": ".py",
   "mimetype": "text/x-python",
   "name": "python",
   "nbconvert_exporter": "python",
   "pygments_lexer": "ipython3",
   "version": "3.7.3"
  },
  "latex_envs": {
   "LaTeX_envs_menu_present": true,
   "autoclose": false,
   "autocomplete": true,
   "bibliofile": "biblio.bib",
   "cite_by": "apalike",
   "current_citInitial": 1,
   "eqLabelWithNumbers": true,
   "eqNumInitial": 1,
   "hotkeys": {
    "equation": "Ctrl-E",
    "itemize": "Ctrl-I"
   },
   "labels_anchors": false,
   "latex_user_defs": false,
   "report_style_numbering": false,
   "user_envs_cfg": false
  },
  "toc": {
   "base_numbering": 1,
   "nav_menu": {},
   "number_sections": true,
   "sideBar": true,
   "skip_h1_title": false,
   "title_cell": "Table of Contents",
   "title_sidebar": "Contents",
   "toc_cell": false,
   "toc_position": {},
   "toc_section_display": true,
   "toc_window_display": false
  },
  "varInspector": {
   "cols": {
    "lenName": 16,
    "lenType": 16,
    "lenVar": 40
   },
   "kernels_config": {
    "python": {
     "delete_cmd_postfix": "",
     "delete_cmd_prefix": "del ",
     "library": "var_list.py",
     "varRefreshCmd": "print(var_dic_list())"
    },
    "r": {
     "delete_cmd_postfix": ") ",
     "delete_cmd_prefix": "rm(",
     "library": "var_list.r",
     "varRefreshCmd": "cat(var_dic_list()) "
    }
   },
   "types_to_exclude": [
    "module",
    "function",
    "builtin_function_or_method",
    "instance",
    "_Feature"
   ],
   "window_display": false
  }
 },
 "nbformat": 4,
 "nbformat_minor": 2
}
