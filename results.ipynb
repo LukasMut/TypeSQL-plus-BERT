{
 "cells": [
  {
   "cell_type": "code",
   "execution_count": 1,
   "metadata": {
    "ExecuteTime": {
     "end_time": "2019-10-12T15:14:27.462542Z",
     "start_time": "2019-10-12T15:14:01.883396Z"
    }
   },
   "outputs": [],
   "source": [
    "import json\n",
    "import os \n",
    "import re\n",
    "import numpy as np\n",
    "import pandas as pd\n",
    "import matplotlib.pyplot as plt\n",
    "import matplotlib.image as img"
   ]
  },
  {
   "cell_type": "code",
   "execution_count": 2,
   "metadata": {
    "ExecuteTime": {
     "end_time": "2019-10-12T15:14:27.475014Z",
     "start_time": "2019-10-12T15:14:27.462542Z"
    },
    "code_folding": [
     0
    ]
   },
   "outputs": [],
   "source": [
    "def get_results(train=True):\n",
    "    global filenames\n",
    "    filenames = [f for f in os.listdir(os.getcwd()+'./results/') if not f.endswith('checkpoints')]\n",
    "    filenames.extend([f for f in os.listdir(os.getcwd()+'./results_test/') if not f.endswith('checkpoints')\\\n",
    "                     and not f in filenames])\n",
    "    for filename in sorted(filenames):\n",
    "        if train:\n",
    "            try:\n",
    "                with open('./results/'+ filename,'r') as f: yield filename, json.load(f)\n",
    "            except:\n",
    "                continue\n",
    "        else:\n",
    "            try:\n",
    "                with open('./results_test/'+ filename,'r') as f: yield filename, json.load(f)\n",
    "            except:\n",
    "                pass"
   ]
  },
  {
   "cell_type": "code",
   "execution_count": 3,
   "metadata": {
    "ExecuteTime": {
     "end_time": "2019-10-12T15:14:27.508102Z",
     "start_time": "2019-10-12T15:14:27.478023Z"
    },
    "code_folding": [
     0
    ]
   },
   "outputs": [],
   "source": [
    "def mk_dataframe(results_train, results_test=None):\n",
    "    filename_train, results_train = results_train\n",
    "    if results_test != None:\n",
    "        filename_test, results_test = results_test\n",
    "        assert filename_train==filename_test, 'filenames should be the same'\n",
    "        results_train.update(results_test)\n",
    "        print(\"Model: \", filename_test.strip('.json'))\n",
    "        return pd.DataFrame.from_dict(results_train, orient='index').fillna('_')\n",
    "    else:\n",
    "        print(\"Model: \", filename_train.strip('.json'))\n",
    "        return pd.DataFrame.from_dict(results_train, orient='index')"
   ]
  },
  {
   "cell_type": "code",
   "execution_count": 4,
   "metadata": {
    "ExecuteTime": {
     "end_time": "2019-10-12T15:14:27.564298Z",
     "start_time": "2019-10-12T15:14:27.510108Z"
    },
    "code_folding": [
     0
    ]
   },
   "outputs": [],
   "source": [
    "def show_plots(metric, idx):\n",
    "    folder = 'losses/' if metric == 'loss' else 'accs/'\n",
    "    files = [file for file in os.listdir(os.getcwd() + './plots/' + folder) if not file.endswith('.ipynb_checkpoints')]\n",
    "    filename = './plots/' + folder + files[idx]\n",
    "    print(\"Model: \", re.sub(r'./plots/' + folder, '', filename.replace('.png', '')))\n",
    "    image = img.imread(filename)\n",
    "    plt.clf()\n",
    "    plt.figure(dpi=100)\n",
    "    fig = plt.imshow(image)\n",
    "    plt.axis('off')\n",
    "    fig.axes.get_xaxis().set_visible(False)\n",
    "    fig.axes.get_yaxis().set_visible(False)\n",
    "    plt.show()"
   ]
  },
  {
   "cell_type": "code",
   "execution_count": 5,
   "metadata": {
    "ExecuteTime": {
     "end_time": "2019-10-12T15:14:27.665079Z",
     "start_time": "2019-10-12T15:14:27.566303Z"
    }
   },
   "outputs": [],
   "source": [
    "results_train = get_results()\n",
    "results_test = get_results(train=False)"
   ]
  },
  {
   "cell_type": "code",
   "execution_count": 6,
   "metadata": {
    "ExecuteTime": {
     "end_time": "2019-10-12T15:14:28.368939Z",
     "start_time": "2019-10-12T15:14:27.669090Z"
    }
   },
   "outputs": [
    {
     "name": "stdout",
     "output_type": "stream",
     "text": [
      "Model:  100d_bert_avg_types_homogeneous_kg\n"
     ]
    },
    {
     "data": {
      "text/html": [
       "<div>\n",
       "<style scoped>\n",
       "    .dataframe tbody tr th:only-of-type {\n",
       "        vertical-align: middle;\n",
       "    }\n",
       "\n",
       "    .dataframe tbody tr th {\n",
       "        vertical-align: top;\n",
       "    }\n",
       "\n",
       "    .dataframe thead th {\n",
       "        text-align: right;\n",
       "    }\n",
       "</style>\n",
       "<table border=\"1\" class=\"dataframe\">\n",
       "  <thead>\n",
       "    <tr style=\"text-align: right;\">\n",
       "      <th></th>\n",
       "      <th>max</th>\n",
       "      <th>agg</th>\n",
       "      <th>sel</th>\n",
       "      <th>where</th>\n",
       "      <th>qm_acc</th>\n",
       "      <th>ex_acc</th>\n",
       "    </tr>\n",
       "  </thead>\n",
       "  <tbody>\n",
       "    <tr>\n",
       "      <th>dev</th>\n",
       "      <td>_</td>\n",
       "      <td>0.901424</td>\n",
       "      <td>0.885752</td>\n",
       "      <td>0.661802</td>\n",
       "      <td>0.553774</td>\n",
       "      <td>0.629621</td>\n",
       "    </tr>\n",
       "    <tr>\n",
       "      <th>test</th>\n",
       "      <td>_</td>\n",
       "      <td>0.901013</td>\n",
       "      <td>0.874858</td>\n",
       "      <td>0.655921</td>\n",
       "      <td>0.543952</td>\n",
       "      <td>0.627486</td>\n",
       "    </tr>\n",
       "    <tr>\n",
       "      <th>train</th>\n",
       "      <td>0.917383</td>\n",
       "      <td>0.997515</td>\n",
       "      <td>0.999464</td>\n",
       "      <td>0.916865</td>\n",
       "      <td>_</td>\n",
       "      <td>_</td>\n",
       "    </tr>\n",
       "  </tbody>\n",
       "</table>\n",
       "</div>"
      ],
      "text/plain": [
       "            max       agg       sel     where    qm_acc    ex_acc\n",
       "dev           _  0.901424  0.885752  0.661802  0.553774  0.629621\n",
       "test          _  0.901013  0.874858  0.655921  0.543952  0.627486\n",
       "train  0.917383  0.997515  0.999464  0.916865         _         _"
      ]
     },
     "execution_count": 6,
     "metadata": {},
     "output_type": "execute_result"
    }
   ],
   "source": [
    "mk_dataframe(next(iter(results_train)), next(iter(results_test)))"
   ]
  },
  {
   "cell_type": "code",
   "execution_count": 7,
   "metadata": {
    "ExecuteTime": {
     "end_time": "2019-10-12T15:14:28.391075Z",
     "start_time": "2019-10-12T15:14:28.371946Z"
    },
    "scrolled": true
   },
   "outputs": [
    {
     "name": "stdout",
     "output_type": "stream",
     "text": [
      "Model:  100d_bert_avg_types_mixed_kg\n"
     ]
    },
    {
     "data": {
      "text/html": [
       "<div>\n",
       "<style scoped>\n",
       "    .dataframe tbody tr th:only-of-type {\n",
       "        vertical-align: middle;\n",
       "    }\n",
       "\n",
       "    .dataframe tbody tr th {\n",
       "        vertical-align: top;\n",
       "    }\n",
       "\n",
       "    .dataframe thead th {\n",
       "        text-align: right;\n",
       "    }\n",
       "</style>\n",
       "<table border=\"1\" class=\"dataframe\">\n",
       "  <thead>\n",
       "    <tr style=\"text-align: right;\">\n",
       "      <th></th>\n",
       "      <th>max</th>\n",
       "      <th>agg</th>\n",
       "      <th>sel</th>\n",
       "      <th>where</th>\n",
       "      <th>qm_acc</th>\n",
       "      <th>ex_acc</th>\n",
       "    </tr>\n",
       "  </thead>\n",
       "  <tbody>\n",
       "    <tr>\n",
       "      <th>dev</th>\n",
       "      <td>_</td>\n",
       "      <td>0.902022</td>\n",
       "      <td>0.937074</td>\n",
       "      <td>0.738366</td>\n",
       "      <td>0.642062</td>\n",
       "      <td>0.628066</td>\n",
       "    </tr>\n",
       "    <tr>\n",
       "      <th>test</th>\n",
       "      <td>_</td>\n",
       "      <td>0.900127</td>\n",
       "      <td>0.928372</td>\n",
       "      <td>0.732236</td>\n",
       "      <td>0.632426</td>\n",
       "      <td>0.614123</td>\n",
       "    </tr>\n",
       "    <tr>\n",
       "      <th>train</th>\n",
       "      <td>0.914255</td>\n",
       "      <td>0.996389</td>\n",
       "      <td>0.999553</td>\n",
       "      <td>0.917812</td>\n",
       "      <td>_</td>\n",
       "      <td>_</td>\n",
       "    </tr>\n",
       "  </tbody>\n",
       "</table>\n",
       "</div>"
      ],
      "text/plain": [
       "            max       agg       sel     where    qm_acc    ex_acc\n",
       "dev           _  0.902022  0.937074  0.738366  0.642062  0.628066\n",
       "test          _  0.900127  0.928372  0.732236  0.632426  0.614123\n",
       "train  0.914255  0.996389  0.999553  0.917812         _         _"
      ]
     },
     "execution_count": 7,
     "metadata": {},
     "output_type": "execute_result"
    }
   ],
   "source": [
    "mk_dataframe(next(iter(results_train)), next(iter(results_test)))"
   ]
  },
  {
   "cell_type": "code",
   "execution_count": 8,
   "metadata": {
    "ExecuteTime": {
     "end_time": "2019-10-12T15:14:28.462187Z",
     "start_time": "2019-10-12T15:14:28.393003Z"
    }
   },
   "outputs": [
    {
     "name": "stdout",
     "output_type": "stream",
     "text": [
      "Model:  100d_bert_avg_types_single_kg\n"
     ]
    },
    {
     "data": {
      "text/html": [
       "<div>\n",
       "<style scoped>\n",
       "    .dataframe tbody tr th:only-of-type {\n",
       "        vertical-align: middle;\n",
       "    }\n",
       "\n",
       "    .dataframe tbody tr th {\n",
       "        vertical-align: top;\n",
       "    }\n",
       "\n",
       "    .dataframe thead th {\n",
       "        text-align: right;\n",
       "    }\n",
       "</style>\n",
       "<table border=\"1\" class=\"dataframe\">\n",
       "  <thead>\n",
       "    <tr style=\"text-align: right;\">\n",
       "      <th></th>\n",
       "      <th>max</th>\n",
       "      <th>agg</th>\n",
       "      <th>sel</th>\n",
       "      <th>where</th>\n",
       "      <th>qm_acc</th>\n",
       "      <th>ex_acc</th>\n",
       "    </tr>\n",
       "  </thead>\n",
       "  <tbody>\n",
       "    <tr>\n",
       "      <th>dev</th>\n",
       "      <td>_</td>\n",
       "      <td>0.899151</td>\n",
       "      <td>0.867807</td>\n",
       "      <td>0.675679</td>\n",
       "      <td>0.556406</td>\n",
       "      <td>0.624357</td>\n",
       "    </tr>\n",
       "    <tr>\n",
       "      <th>test</th>\n",
       "      <td>_</td>\n",
       "      <td>0.898733</td>\n",
       "      <td>0.857441</td>\n",
       "      <td>0.669411</td>\n",
       "      <td>0.548322</td>\n",
       "      <td>0.620329</td>\n",
       "    </tr>\n",
       "    <tr>\n",
       "      <th>train</th>\n",
       "      <td>0.959639</td>\n",
       "      <td>0.987220</td>\n",
       "      <td>0.999106</td>\n",
       "      <td>0.972133</td>\n",
       "      <td>_</td>\n",
       "      <td>_</td>\n",
       "    </tr>\n",
       "  </tbody>\n",
       "</table>\n",
       "</div>"
      ],
      "text/plain": [
       "            max       agg       sel     where    qm_acc    ex_acc\n",
       "dev           _  0.899151  0.867807  0.675679  0.556406  0.624357\n",
       "test          _  0.898733  0.857441  0.669411  0.548322  0.620329\n",
       "train  0.959639  0.987220  0.999106  0.972133         _         _"
      ]
     },
     "execution_count": 8,
     "metadata": {},
     "output_type": "execute_result"
    }
   ],
   "source": [
    "mk_dataframe(next(iter(results_train)), next(iter(results_test)))"
   ]
  },
  {
   "cell_type": "code",
   "execution_count": 9,
   "metadata": {
    "ExecuteTime": {
     "end_time": "2019-10-12T15:14:28.492267Z",
     "start_time": "2019-10-12T15:14:28.465194Z"
    },
    "scrolled": true
   },
   "outputs": [
    {
     "name": "stdout",
     "output_type": "stream",
     "text": [
      "Model:  100d_bert_max-pool_types_single_kg\n"
     ]
    },
    {
     "data": {
      "text/html": [
       "<div>\n",
       "<style scoped>\n",
       "    .dataframe tbody tr th:only-of-type {\n",
       "        vertical-align: middle;\n",
       "    }\n",
       "\n",
       "    .dataframe tbody tr th {\n",
       "        vertical-align: top;\n",
       "    }\n",
       "\n",
       "    .dataframe thead th {\n",
       "        text-align: right;\n",
       "    }\n",
       "</style>\n",
       "<table border=\"1\" class=\"dataframe\">\n",
       "  <thead>\n",
       "    <tr style=\"text-align: right;\">\n",
       "      <th></th>\n",
       "      <th>max</th>\n",
       "      <th>agg</th>\n",
       "      <th>sel</th>\n",
       "      <th>where</th>\n",
       "      <th>qm_acc</th>\n",
       "      <th>ex_acc</th>\n",
       "    </tr>\n",
       "  </thead>\n",
       "  <tbody>\n",
       "    <tr>\n",
       "      <th>dev</th>\n",
       "      <td>_</td>\n",
       "      <td>0.899749</td>\n",
       "      <td>0.863979</td>\n",
       "      <td>0.671970</td>\n",
       "      <td>0.549946</td>\n",
       "      <td>0.620768</td>\n",
       "    </tr>\n",
       "    <tr>\n",
       "      <th>test</th>\n",
       "      <td>_</td>\n",
       "      <td>0.897467</td>\n",
       "      <td>0.848195</td>\n",
       "      <td>0.669981</td>\n",
       "      <td>0.546295</td>\n",
       "      <td>0.620899</td>\n",
       "    </tr>\n",
       "    <tr>\n",
       "      <th>train</th>\n",
       "      <td>0.957905</td>\n",
       "      <td>0.988989</td>\n",
       "      <td>0.998731</td>\n",
       "      <td>0.969631</td>\n",
       "      <td>_</td>\n",
       "      <td>_</td>\n",
       "    </tr>\n",
       "  </tbody>\n",
       "</table>\n",
       "</div>"
      ],
      "text/plain": [
       "            max       agg       sel     where    qm_acc    ex_acc\n",
       "dev           _  0.899749  0.863979  0.671970  0.549946  0.620768\n",
       "test          _  0.897467  0.848195  0.669981  0.546295  0.620899\n",
       "train  0.957905  0.988989  0.998731  0.969631         _         _"
      ]
     },
     "execution_count": 9,
     "metadata": {},
     "output_type": "execute_result"
    }
   ],
   "source": [
    "mk_dataframe(next(iter(results_train)), next(iter(results_test)))"
   ]
  },
  {
   "cell_type": "code",
   "execution_count": 10,
   "metadata": {
    "ExecuteTime": {
     "end_time": "2019-10-12T15:14:28.529365Z",
     "start_time": "2019-10-12T15:14:28.495274Z"
    }
   },
   "outputs": [
    {
     "name": "stdout",
     "output_type": "stream",
     "text": [
      "Model:  100d_types_homogeneous_kg\n"
     ]
    },
    {
     "data": {
      "text/html": [
       "<div>\n",
       "<style scoped>\n",
       "    .dataframe tbody tr th:only-of-type {\n",
       "        vertical-align: middle;\n",
       "    }\n",
       "\n",
       "    .dataframe tbody tr th {\n",
       "        vertical-align: top;\n",
       "    }\n",
       "\n",
       "    .dataframe thead th {\n",
       "        text-align: right;\n",
       "    }\n",
       "</style>\n",
       "<table border=\"1\" class=\"dataframe\">\n",
       "  <thead>\n",
       "    <tr style=\"text-align: right;\">\n",
       "      <th></th>\n",
       "      <th>max</th>\n",
       "      <th>agg</th>\n",
       "      <th>sel</th>\n",
       "      <th>where</th>\n",
       "      <th>qm_acc</th>\n",
       "      <th>ex_acc</th>\n",
       "    </tr>\n",
       "  </thead>\n",
       "  <tbody>\n",
       "    <tr>\n",
       "      <th>dev</th>\n",
       "      <td>_</td>\n",
       "      <td>0.902019</td>\n",
       "      <td>0.936936</td>\n",
       "      <td>0.741805</td>\n",
       "      <td>0.645012</td>\n",
       "      <td>0.690261</td>\n",
       "    </tr>\n",
       "    <tr>\n",
       "      <th>test</th>\n",
       "      <td>_</td>\n",
       "      <td>0.901241</td>\n",
       "      <td>0.925112</td>\n",
       "      <td>0.740442</td>\n",
       "      <td>0.63507</td>\n",
       "      <td>0.682623</td>\n",
       "    </tr>\n",
       "    <tr>\n",
       "      <th>train</th>\n",
       "      <td>0.915126</td>\n",
       "      <td>0.997108</td>\n",
       "      <td>0.999237</td>\n",
       "      <td>0.908880</td>\n",
       "      <td>_</td>\n",
       "      <td>_</td>\n",
       "    </tr>\n",
       "  </tbody>\n",
       "</table>\n",
       "</div>"
      ],
      "text/plain": [
       "            max       agg       sel     where    qm_acc    ex_acc\n",
       "dev           _  0.902019  0.936936  0.741805  0.645012  0.690261\n",
       "test          _  0.901241  0.925112  0.740442   0.63507  0.682623\n",
       "train  0.915126  0.997108  0.999237  0.908880         _         _"
      ]
     },
     "execution_count": 10,
     "metadata": {},
     "output_type": "execute_result"
    }
   ],
   "source": [
    "mk_dataframe(next(iter(results_train)), next(iter(results_test)))"
   ]
  },
  {
   "cell_type": "code",
   "execution_count": 11,
   "metadata": {
    "ExecuteTime": {
     "end_time": "2019-10-12T15:14:28.553428Z",
     "start_time": "2019-10-12T15:14:28.531370Z"
    }
   },
   "outputs": [
    {
     "name": "stdout",
     "output_type": "stream",
     "text": [
      "Model:  100d_types_single_kg\n"
     ]
    },
    {
     "data": {
      "text/html": [
       "<div>\n",
       "<style scoped>\n",
       "    .dataframe tbody tr th:only-of-type {\n",
       "        vertical-align: middle;\n",
       "    }\n",
       "\n",
       "    .dataframe tbody tr th {\n",
       "        vertical-align: top;\n",
       "    }\n",
       "\n",
       "    .dataframe thead th {\n",
       "        text-align: right;\n",
       "    }\n",
       "</style>\n",
       "<table border=\"1\" class=\"dataframe\">\n",
       "  <thead>\n",
       "    <tr style=\"text-align: right;\">\n",
       "      <th></th>\n",
       "      <th>max</th>\n",
       "      <th>agg</th>\n",
       "      <th>sel</th>\n",
       "      <th>where</th>\n",
       "      <th>qm_acc</th>\n",
       "      <th>ex_acc</th>\n",
       "    </tr>\n",
       "  </thead>\n",
       "  <tbody>\n",
       "    <tr>\n",
       "      <th>dev</th>\n",
       "      <td>_</td>\n",
       "      <td>0.898456</td>\n",
       "      <td>0.922328</td>\n",
       "      <td>0.773515</td>\n",
       "      <td>0.663302</td>\n",
       "      <td>0.730879</td>\n",
       "    </tr>\n",
       "    <tr>\n",
       "      <th>test</th>\n",
       "      <td>_</td>\n",
       "      <td>0.897588</td>\n",
       "      <td>0.912578</td>\n",
       "      <td>0.768533</td>\n",
       "      <td>0.650501</td>\n",
       "      <td>0.719028</td>\n",
       "    </tr>\n",
       "    <tr>\n",
       "      <th>train</th>\n",
       "      <td>0.966001</td>\n",
       "      <td>0.986443</td>\n",
       "      <td>0.998669</td>\n",
       "      <td>0.978404</td>\n",
       "      <td>_</td>\n",
       "      <td>_</td>\n",
       "    </tr>\n",
       "  </tbody>\n",
       "</table>\n",
       "</div>"
      ],
      "text/plain": [
       "            max       agg       sel     where    qm_acc    ex_acc\n",
       "dev           _  0.898456  0.922328  0.773515  0.663302  0.730879\n",
       "test          _  0.897588  0.912578  0.768533  0.650501  0.719028\n",
       "train  0.966001  0.986443  0.998669  0.978404         _         _"
      ]
     },
     "execution_count": 11,
     "metadata": {},
     "output_type": "execute_result"
    }
   ],
   "source": [
    "mk_dataframe(next(iter(results_train)), next(iter(results_test)))"
   ]
  },
  {
   "cell_type": "code",
   "execution_count": 12,
   "metadata": {
    "ExecuteTime": {
     "end_time": "2019-10-12T15:14:28.605567Z",
     "start_time": "2019-10-12T15:14:28.555433Z"
    }
   },
   "outputs": [
    {
     "name": "stdout",
     "output_type": "stream",
     "text": [
      "Model:  600d_bert_avg_types_homogeneous_kg\n"
     ]
    },
    {
     "data": {
      "text/html": [
       "<div>\n",
       "<style scoped>\n",
       "    .dataframe tbody tr th:only-of-type {\n",
       "        vertical-align: middle;\n",
       "    }\n",
       "\n",
       "    .dataframe tbody tr th {\n",
       "        vertical-align: top;\n",
       "    }\n",
       "\n",
       "    .dataframe thead th {\n",
       "        text-align: right;\n",
       "    }\n",
       "</style>\n",
       "<table border=\"1\" class=\"dataframe\">\n",
       "  <thead>\n",
       "    <tr style=\"text-align: right;\">\n",
       "      <th></th>\n",
       "      <th>max</th>\n",
       "      <th>agg</th>\n",
       "      <th>sel</th>\n",
       "      <th>where</th>\n",
       "      <th>qm_acc</th>\n",
       "      <th>ex_acc</th>\n",
       "    </tr>\n",
       "  </thead>\n",
       "  <tbody>\n",
       "    <tr>\n",
       "      <th>dev</th>\n",
       "      <td>_</td>\n",
       "      <td>0.899151</td>\n",
       "      <td>0.895442</td>\n",
       "      <td>0.682139</td>\n",
       "      <td>0.574351</td>\n",
       "      <td>0.644934</td>\n",
       "    </tr>\n",
       "    <tr>\n",
       "      <th>test</th>\n",
       "      <td>_</td>\n",
       "      <td>0.900950</td>\n",
       "      <td>0.883534</td>\n",
       "      <td>0.671374</td>\n",
       "      <td>0.559531</td>\n",
       "      <td>0.646232</td>\n",
       "    </tr>\n",
       "    <tr>\n",
       "      <th>train</th>\n",
       "      <td>0.915506</td>\n",
       "      <td>0.993458</td>\n",
       "      <td>0.999660</td>\n",
       "      <td>0.917061</td>\n",
       "      <td>_</td>\n",
       "      <td>_</td>\n",
       "    </tr>\n",
       "  </tbody>\n",
       "</table>\n",
       "</div>"
      ],
      "text/plain": [
       "            max       agg       sel     where    qm_acc    ex_acc\n",
       "dev           _  0.899151  0.895442  0.682139  0.574351  0.644934\n",
       "test          _  0.900950  0.883534  0.671374  0.559531  0.646232\n",
       "train  0.915506  0.993458  0.999660  0.917061         _         _"
      ]
     },
     "execution_count": 12,
     "metadata": {},
     "output_type": "execute_result"
    }
   ],
   "source": [
    "mk_dataframe(next(iter(results_train)), next(iter(results_test)))"
   ]
  },
  {
   "cell_type": "code",
   "execution_count": 13,
   "metadata": {
    "ExecuteTime": {
     "end_time": "2019-10-12T15:14:30.561859Z",
     "start_time": "2019-10-12T15:14:28.607572Z"
    },
    "scrolled": true
   },
   "outputs": [
    {
     "ename": "AssertionError",
     "evalue": "filenames should be the same",
     "output_type": "error",
     "traceback": [
      "\u001b[1;31m---------------------------------------------------------------------------\u001b[0m",
      "\u001b[1;31mAssertionError\u001b[0m                            Traceback (most recent call last)",
      "\u001b[1;32m<ipython-input-13-4785ac689e70>\u001b[0m in \u001b[0;36m<module>\u001b[1;34m\u001b[0m\n\u001b[1;32m----> 1\u001b[1;33m \u001b[0mmk_dataframe\u001b[0m\u001b[1;33m(\u001b[0m\u001b[0mnext\u001b[0m\u001b[1;33m(\u001b[0m\u001b[0miter\u001b[0m\u001b[1;33m(\u001b[0m\u001b[0mresults_train\u001b[0m\u001b[1;33m)\u001b[0m\u001b[1;33m)\u001b[0m\u001b[1;33m,\u001b[0m \u001b[0mnext\u001b[0m\u001b[1;33m(\u001b[0m\u001b[0miter\u001b[0m\u001b[1;33m(\u001b[0m\u001b[0mresults_test\u001b[0m\u001b[1;33m)\u001b[0m\u001b[1;33m)\u001b[0m\u001b[1;33m)\u001b[0m\u001b[1;33m\u001b[0m\u001b[1;33m\u001b[0m\u001b[0m\n\u001b[0m",
      "\u001b[1;32m<ipython-input-3-fb38d843c9ac>\u001b[0m in \u001b[0;36mmk_dataframe\u001b[1;34m(results_train, results_test)\u001b[0m\n\u001b[0;32m      3\u001b[0m     \u001b[1;32mif\u001b[0m \u001b[0mresults_test\u001b[0m \u001b[1;33m!=\u001b[0m \u001b[1;32mNone\u001b[0m\u001b[1;33m:\u001b[0m\u001b[1;33m\u001b[0m\u001b[1;33m\u001b[0m\u001b[0m\n\u001b[0;32m      4\u001b[0m         \u001b[0mfilename_test\u001b[0m\u001b[1;33m,\u001b[0m \u001b[0mresults_test\u001b[0m \u001b[1;33m=\u001b[0m \u001b[0mresults_test\u001b[0m\u001b[1;33m\u001b[0m\u001b[1;33m\u001b[0m\u001b[0m\n\u001b[1;32m----> 5\u001b[1;33m         \u001b[1;32massert\u001b[0m \u001b[0mfilename_train\u001b[0m\u001b[1;33m==\u001b[0m\u001b[0mfilename_test\u001b[0m\u001b[1;33m,\u001b[0m \u001b[1;34m'filenames should be the same'\u001b[0m\u001b[1;33m\u001b[0m\u001b[1;33m\u001b[0m\u001b[0m\n\u001b[0m\u001b[0;32m      6\u001b[0m         \u001b[0mresults_train\u001b[0m\u001b[1;33m.\u001b[0m\u001b[0mupdate\u001b[0m\u001b[1;33m(\u001b[0m\u001b[0mresults_test\u001b[0m\u001b[1;33m)\u001b[0m\u001b[1;33m\u001b[0m\u001b[1;33m\u001b[0m\u001b[0m\n\u001b[0;32m      7\u001b[0m         \u001b[0mprint\u001b[0m\u001b[1;33m(\u001b[0m\u001b[1;34m\"Model: \"\u001b[0m\u001b[1;33m,\u001b[0m \u001b[0mfilename_test\u001b[0m\u001b[1;33m.\u001b[0m\u001b[0mstrip\u001b[0m\u001b[1;33m(\u001b[0m\u001b[1;34m'.json'\u001b[0m\u001b[1;33m)\u001b[0m\u001b[1;33m)\u001b[0m\u001b[1;33m\u001b[0m\u001b[1;33m\u001b[0m\u001b[0m\n",
      "\u001b[1;31mAssertionError\u001b[0m: filenames should be the same"
     ]
    }
   ],
   "source": [
    "mk_dataframe(next(iter(results_train)), next(iter(results_test)))"
   ]
  },
  {
   "cell_type": "code",
   "execution_count": null,
   "metadata": {
    "ExecuteTime": {
     "end_time": "2019-10-12T15:14:30.566874Z",
     "start_time": "2019-10-12T15:14:01.947Z"
    },
    "scrolled": false
   },
   "outputs": [],
   "source": [
    "mk_dataframe(next(iter(results_train)), next(iter(results_test)))"
   ]
  },
  {
   "cell_type": "code",
   "execution_count": null,
   "metadata": {
    "ExecuteTime": {
     "end_time": "2019-10-12T15:14:30.568879Z",
     "start_time": "2019-10-12T15:14:01.950Z"
    }
   },
   "outputs": [],
   "source": [
    "mk_dataframe(next(iter(results_train)), next(iter(results_test)))"
   ]
  },
  {
   "cell_type": "code",
   "execution_count": null,
   "metadata": {
    "ExecuteTime": {
     "end_time": "2019-10-12T15:14:30.570884Z",
     "start_time": "2019-10-12T15:14:01.953Z"
    }
   },
   "outputs": [],
   "source": [
    "mk_dataframe(next(iter(results_train)), next(iter(results_test)))"
   ]
  },
  {
   "cell_type": "code",
   "execution_count": null,
   "metadata": {
    "ExecuteTime": {
     "end_time": "2019-10-12T15:14:30.572891Z",
     "start_time": "2019-10-12T15:14:01.956Z"
    },
    "scrolled": true
   },
   "outputs": [],
   "source": [
    "mk_dataframe(next(iter(results_train)), next(iter(results_test)))"
   ]
  },
  {
   "cell_type": "code",
   "execution_count": null,
   "metadata": {
    "ExecuteTime": {
     "end_time": "2019-10-12T15:14:30.573891Z",
     "start_time": "2019-10-12T15:14:01.962Z"
    },
    "scrolled": true
   },
   "outputs": [],
   "source": [
    "for i in range(len(filenames)):\n",
    "    show_plots('acc', i)"
   ]
  },
  {
   "cell_type": "code",
   "execution_count": null,
   "metadata": {
    "ExecuteTime": {
     "end_time": "2019-10-12T15:14:30.575897Z",
     "start_time": "2019-10-12T15:14:01.967Z"
    },
    "scrolled": false
   },
   "outputs": [],
   "source": [
    "for i in range(len(filenames)):\n",
    "    show_plots('loss', i)"
   ]
  }
 ],
 "metadata": {
  "hide_input": false,
  "kernelspec": {
   "display_name": "Python 3",
   "language": "python",
   "name": "python3"
  },
  "language_info": {
   "codemirror_mode": {
    "name": "ipython",
    "version": 3
   },
   "file_extension": ".py",
   "mimetype": "text/x-python",
   "name": "python",
   "nbconvert_exporter": "python",
   "pygments_lexer": "ipython3",
   "version": "3.7.3"
  },
  "latex_envs": {
   "LaTeX_envs_menu_present": true,
   "autoclose": false,
   "autocomplete": true,
   "bibliofile": "biblio.bib",
   "cite_by": "apalike",
   "current_citInitial": 1,
   "eqLabelWithNumbers": true,
   "eqNumInitial": 1,
   "hotkeys": {
    "equation": "Ctrl-E",
    "itemize": "Ctrl-I"
   },
   "labels_anchors": false,
   "latex_user_defs": false,
   "report_style_numbering": false,
   "user_envs_cfg": false
  },
  "toc": {
   "base_numbering": 1,
   "nav_menu": {},
   "number_sections": true,
   "sideBar": true,
   "skip_h1_title": false,
   "title_cell": "Table of Contents",
   "title_sidebar": "Contents",
   "toc_cell": false,
   "toc_position": {},
   "toc_section_display": true,
   "toc_window_display": false
  },
  "varInspector": {
   "cols": {
    "lenName": 16,
    "lenType": 16,
    "lenVar": 40
   },
   "kernels_config": {
    "python": {
     "delete_cmd_postfix": "",
     "delete_cmd_prefix": "del ",
     "library": "var_list.py",
     "varRefreshCmd": "print(var_dic_list())"
    },
    "r": {
     "delete_cmd_postfix": ") ",
     "delete_cmd_prefix": "rm(",
     "library": "var_list.r",
     "varRefreshCmd": "cat(var_dic_list()) "
    }
   },
   "types_to_exclude": [
    "module",
    "function",
    "builtin_function_or_method",
    "instance",
    "_Feature"
   ],
   "window_display": false
  }
 },
 "nbformat": 4,
 "nbformat_minor": 2
}
