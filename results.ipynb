{
 "cells": [
  {
   "cell_type": "code",
   "execution_count": 1,
   "metadata": {
    "ExecuteTime": {
     "end_time": "2019-09-27T07:13:36.548191Z",
     "start_time": "2019-09-27T07:13:35.372838Z"
    }
   },
   "outputs": [],
   "source": [
    "import json\n",
    "import os \n",
    "import re\n",
    "import numpy as np\n",
    "import pandas as pd\n",
    "import matplotlib.pyplot as plt\n",
    "import matplotlib.image as img"
   ]
  },
  {
   "cell_type": "code",
   "execution_count": 2,
   "metadata": {
    "ExecuteTime": {
     "end_time": "2019-09-27T07:13:36.564235Z",
     "start_time": "2019-09-27T07:13:36.551200Z"
    },
    "code_folding": [
     0
    ]
   },
   "outputs": [],
   "source": [
    "def get_results(train=True):\n",
    "    global filenames\n",
    "    filenames = [f for f in os.listdir(os.getcwd()+'./results/') if not f.endswith('checkpoints')]\n",
    "    filenames.extend([f for f in os.listdir(os.getcwd()+'./results_test/') if not f.endswith('checkpoints')\\\n",
    "                     and not f in filenames])\n",
    "    for filename in sorted(filenames):\n",
    "        if train:\n",
    "            try:\n",
    "                with open('./results/'+ filename,'r') as f: yield filename, json.load(f)\n",
    "            except:\n",
    "                continue\n",
    "        else:\n",
    "            try:\n",
    "                with open('./results_test/'+ filename,'r') as f: yield filename, json.load(f)\n",
    "            except:\n",
    "                pass"
   ]
  },
  {
   "cell_type": "code",
   "execution_count": 3,
   "metadata": {
    "ExecuteTime": {
     "end_time": "2019-09-27T07:13:36.579275Z",
     "start_time": "2019-09-27T07:13:36.568245Z"
    },
    "code_folding": [
     0
    ]
   },
   "outputs": [],
   "source": [
    "def mk_dataframe(results_train, results_test=None):\n",
    "    filename_train, results_train = results_train\n",
    "    if results_test != None:\n",
    "        filename_test, results_test = results_test\n",
    "        assert filename_train==filename_test, 'filenames should be the same'\n",
    "        results_train.update(results_test)\n",
    "        print(\"Model: \", filename_test.strip('.json'))\n",
    "        return pd.DataFrame.from_dict(results_train, orient='index').fillna('_')\n",
    "    else:\n",
    "        print(\"Model: \", filename_train.strip('.json'))\n",
    "        return pd.DataFrame.from_dict(results_train, orient='index')"
   ]
  },
  {
   "cell_type": "code",
   "execution_count": 4,
   "metadata": {
    "ExecuteTime": {
     "end_time": "2019-09-27T07:13:36.595316Z",
     "start_time": "2019-09-27T07:13:36.583285Z"
    },
    "code_folding": [
     0
    ]
   },
   "outputs": [],
   "source": [
    "def show_plots(metric, idx):\n",
    "    folder = 'losses/' if metric == 'loss' else 'accs/'\n",
    "    filename = './plots/' + folder + os.listdir(os.getcwd() + './plots/' + folder)[idx]  \n",
    "    print(\"Model: \", re.sub(r'./plots/' + folder, '', filename.replace('.png', '')))\n",
    "    image = img.imread(filename)\n",
    "    plt.clf()\n",
    "    plt.figure(dpi=100)\n",
    "    plt.imshow(image)\n",
    "    plt.show()"
   ]
  },
  {
   "cell_type": "code",
   "execution_count": 5,
   "metadata": {
    "ExecuteTime": {
     "end_time": "2019-09-27T07:13:36.608352Z",
     "start_time": "2019-09-27T07:13:36.598326Z"
    }
   },
   "outputs": [],
   "source": [
    "results_train = get_results()\n",
    "results_test = get_results(train=False)"
   ]
  },
  {
   "cell_type": "code",
   "execution_count": 6,
   "metadata": {
    "ExecuteTime": {
     "end_time": "2019-09-27T07:13:36.671520Z",
     "start_time": "2019-09-27T07:13:36.612363Z"
    }
   },
   "outputs": [
    {
     "name": "stdout",
     "output_type": "stream",
     "text": [
      "Model:  100d_bert_avg_types_homogeneous_kg\n"
     ]
    },
    {
     "data": {
      "text/html": [
       "<div>\n",
       "<style scoped>\n",
       "    .dataframe tbody tr th:only-of-type {\n",
       "        vertical-align: middle;\n",
       "    }\n",
       "\n",
       "    .dataframe tbody tr th {\n",
       "        vertical-align: top;\n",
       "    }\n",
       "\n",
       "    .dataframe thead th {\n",
       "        text-align: right;\n",
       "    }\n",
       "</style>\n",
       "<table border=\"1\" class=\"dataframe\">\n",
       "  <thead>\n",
       "    <tr style=\"text-align: right;\">\n",
       "      <th></th>\n",
       "      <th>max</th>\n",
       "      <th>agg</th>\n",
       "      <th>sel</th>\n",
       "      <th>where</th>\n",
       "    </tr>\n",
       "  </thead>\n",
       "  <tbody>\n",
       "    <tr>\n",
       "      <th>dev</th>\n",
       "      <td>0.549228</td>\n",
       "      <td>0.902859</td>\n",
       "      <td>0.888862</td>\n",
       "      <td>0.661802</td>\n",
       "    </tr>\n",
       "    <tr>\n",
       "      <th>train</th>\n",
       "      <td>0.912307</td>\n",
       "      <td>0.996157</td>\n",
       "      <td>0.999392</td>\n",
       "      <td>0.914112</td>\n",
       "    </tr>\n",
       "  </tbody>\n",
       "</table>\n",
       "</div>"
      ],
      "text/plain": [
       "            max       agg       sel     where\n",
       "dev    0.549228  0.902859  0.888862  0.661802\n",
       "train  0.912307  0.996157  0.999392  0.914112"
      ]
     },
     "execution_count": 6,
     "metadata": {},
     "output_type": "execute_result"
    }
   ],
   "source": [
    "mk_dataframe(next(iter(results_train)))"
   ]
  },
  {
   "cell_type": "code",
   "execution_count": 7,
   "metadata": {
    "ExecuteTime": {
     "end_time": "2019-09-27T07:13:36.709622Z",
     "start_time": "2019-09-27T07:13:36.675531Z"
    },
    "scrolled": true
   },
   "outputs": [
    {
     "name": "stdout",
     "output_type": "stream",
     "text": [
      "Model:  100d_bert_avg_types_mixed_kg\n"
     ]
    },
    {
     "data": {
      "text/html": [
       "<div>\n",
       "<style scoped>\n",
       "    .dataframe tbody tr th:only-of-type {\n",
       "        vertical-align: middle;\n",
       "    }\n",
       "\n",
       "    .dataframe tbody tr th {\n",
       "        vertical-align: top;\n",
       "    }\n",
       "\n",
       "    .dataframe thead th {\n",
       "        text-align: right;\n",
       "    }\n",
       "</style>\n",
       "<table border=\"1\" class=\"dataframe\">\n",
       "  <thead>\n",
       "    <tr style=\"text-align: right;\">\n",
       "      <th></th>\n",
       "      <th>max</th>\n",
       "      <th>agg</th>\n",
       "      <th>sel</th>\n",
       "      <th>where</th>\n",
       "      <th>qm_acc</th>\n",
       "      <th>ex_acc</th>\n",
       "    </tr>\n",
       "  </thead>\n",
       "  <tbody>\n",
       "    <tr>\n",
       "      <th>dev</th>\n",
       "      <td>_</td>\n",
       "      <td>0.902022</td>\n",
       "      <td>0.937074</td>\n",
       "      <td>0.738366</td>\n",
       "      <td>0.642062</td>\n",
       "      <td>0.628066</td>\n",
       "    </tr>\n",
       "    <tr>\n",
       "      <th>test</th>\n",
       "      <td>_</td>\n",
       "      <td>0.900127</td>\n",
       "      <td>0.928372</td>\n",
       "      <td>0.732236</td>\n",
       "      <td>0.632426</td>\n",
       "      <td>0.614123</td>\n",
       "    </tr>\n",
       "    <tr>\n",
       "      <th>train</th>\n",
       "      <td>0.914255</td>\n",
       "      <td>0.996389</td>\n",
       "      <td>0.999553</td>\n",
       "      <td>0.917812</td>\n",
       "      <td>_</td>\n",
       "      <td>_</td>\n",
       "    </tr>\n",
       "  </tbody>\n",
       "</table>\n",
       "</div>"
      ],
      "text/plain": [
       "            max       agg       sel     where    qm_acc    ex_acc\n",
       "dev           _  0.902022  0.937074  0.738366  0.642062  0.628066\n",
       "test          _  0.900127  0.928372  0.732236  0.632426  0.614123\n",
       "train  0.914255  0.996389  0.999553  0.917812         _         _"
      ]
     },
     "execution_count": 7,
     "metadata": {},
     "output_type": "execute_result"
    }
   ],
   "source": [
    "mk_dataframe(next(iter(results_train)), next(iter(results_test)))"
   ]
  },
  {
   "cell_type": "code",
   "execution_count": 8,
   "metadata": {
    "ExecuteTime": {
     "end_time": "2019-09-27T07:13:36.751733Z",
     "start_time": "2019-09-27T07:13:36.715637Z"
    }
   },
   "outputs": [
    {
     "name": "stdout",
     "output_type": "stream",
     "text": [
      "Model:  100d_bert_avg_types_single_kg\n"
     ]
    },
    {
     "data": {
      "text/html": [
       "<div>\n",
       "<style scoped>\n",
       "    .dataframe tbody tr th:only-of-type {\n",
       "        vertical-align: middle;\n",
       "    }\n",
       "\n",
       "    .dataframe tbody tr th {\n",
       "        vertical-align: top;\n",
       "    }\n",
       "\n",
       "    .dataframe thead th {\n",
       "        text-align: right;\n",
       "    }\n",
       "</style>\n",
       "<table border=\"1\" class=\"dataframe\">\n",
       "  <thead>\n",
       "    <tr style=\"text-align: right;\">\n",
       "      <th></th>\n",
       "      <th>max</th>\n",
       "      <th>agg</th>\n",
       "      <th>sel</th>\n",
       "      <th>where</th>\n",
       "      <th>qm_acc</th>\n",
       "      <th>ex_acc</th>\n",
       "    </tr>\n",
       "  </thead>\n",
       "  <tbody>\n",
       "    <tr>\n",
       "      <th>dev</th>\n",
       "      <td>_</td>\n",
       "      <td>0.899151</td>\n",
       "      <td>0.867807</td>\n",
       "      <td>0.675679</td>\n",
       "      <td>0.556406</td>\n",
       "      <td>0.624357</td>\n",
       "    </tr>\n",
       "    <tr>\n",
       "      <th>test</th>\n",
       "      <td>_</td>\n",
       "      <td>0.898733</td>\n",
       "      <td>0.857441</td>\n",
       "      <td>0.669411</td>\n",
       "      <td>0.548322</td>\n",
       "      <td>0.620329</td>\n",
       "    </tr>\n",
       "    <tr>\n",
       "      <th>train</th>\n",
       "      <td>0.959639</td>\n",
       "      <td>0.987220</td>\n",
       "      <td>0.999106</td>\n",
       "      <td>0.972133</td>\n",
       "      <td>_</td>\n",
       "      <td>_</td>\n",
       "    </tr>\n",
       "  </tbody>\n",
       "</table>\n",
       "</div>"
      ],
      "text/plain": [
       "            max       agg       sel     where    qm_acc    ex_acc\n",
       "dev           _  0.899151  0.867807  0.675679  0.556406  0.624357\n",
       "test          _  0.898733  0.857441  0.669411  0.548322  0.620329\n",
       "train  0.959639  0.987220  0.999106  0.972133         _         _"
      ]
     },
     "execution_count": 8,
     "metadata": {},
     "output_type": "execute_result"
    }
   ],
   "source": [
    "mk_dataframe(next(iter(results_train)), next(iter(results_test)))"
   ]
  },
  {
   "cell_type": "code",
   "execution_count": 9,
   "metadata": {
    "ExecuteTime": {
     "end_time": "2019-09-27T07:13:36.777803Z",
     "start_time": "2019-09-27T07:13:36.755752Z"
    },
    "scrolled": true
   },
   "outputs": [
    {
     "name": "stdout",
     "output_type": "stream",
     "text": [
      "Model:  100d_bert_max-pool_types_single_kg\n"
     ]
    },
    {
     "data": {
      "text/html": [
       "<div>\n",
       "<style scoped>\n",
       "    .dataframe tbody tr th:only-of-type {\n",
       "        vertical-align: middle;\n",
       "    }\n",
       "\n",
       "    .dataframe tbody tr th {\n",
       "        vertical-align: top;\n",
       "    }\n",
       "\n",
       "    .dataframe thead th {\n",
       "        text-align: right;\n",
       "    }\n",
       "</style>\n",
       "<table border=\"1\" class=\"dataframe\">\n",
       "  <thead>\n",
       "    <tr style=\"text-align: right;\">\n",
       "      <th></th>\n",
       "      <th>max</th>\n",
       "      <th>agg</th>\n",
       "      <th>sel</th>\n",
       "      <th>where</th>\n",
       "      <th>qm_acc</th>\n",
       "      <th>ex_acc</th>\n",
       "    </tr>\n",
       "  </thead>\n",
       "  <tbody>\n",
       "    <tr>\n",
       "      <th>dev</th>\n",
       "      <td>_</td>\n",
       "      <td>0.899749</td>\n",
       "      <td>0.863979</td>\n",
       "      <td>0.671970</td>\n",
       "      <td>0.549946</td>\n",
       "      <td>0.620768</td>\n",
       "    </tr>\n",
       "    <tr>\n",
       "      <th>test</th>\n",
       "      <td>_</td>\n",
       "      <td>0.897467</td>\n",
       "      <td>0.848195</td>\n",
       "      <td>0.669981</td>\n",
       "      <td>0.546295</td>\n",
       "      <td>0.620899</td>\n",
       "    </tr>\n",
       "    <tr>\n",
       "      <th>train</th>\n",
       "      <td>0.957905</td>\n",
       "      <td>0.988989</td>\n",
       "      <td>0.998731</td>\n",
       "      <td>0.969631</td>\n",
       "      <td>_</td>\n",
       "      <td>_</td>\n",
       "    </tr>\n",
       "  </tbody>\n",
       "</table>\n",
       "</div>"
      ],
      "text/plain": [
       "            max       agg       sel     where    qm_acc    ex_acc\n",
       "dev           _  0.899749  0.863979  0.671970  0.549946  0.620768\n",
       "test          _  0.897467  0.848195  0.669981  0.546295  0.620899\n",
       "train  0.957905  0.988989  0.998731  0.969631         _         _"
      ]
     },
     "execution_count": 9,
     "metadata": {},
     "output_type": "execute_result"
    }
   ],
   "source": [
    "mk_dataframe(next(iter(results_train)), next(iter(results_test)))"
   ]
  },
  {
   "cell_type": "code",
   "execution_count": 10,
   "metadata": {
    "ExecuteTime": {
     "end_time": "2019-09-27T07:13:36.812896Z",
     "start_time": "2019-09-27T07:13:36.780812Z"
    }
   },
   "outputs": [
    {
     "name": "stdout",
     "output_type": "stream",
     "text": [
      "Model:  100d_types_homogeneous_kg\n"
     ]
    },
    {
     "data": {
      "text/html": [
       "<div>\n",
       "<style scoped>\n",
       "    .dataframe tbody tr th:only-of-type {\n",
       "        vertical-align: middle;\n",
       "    }\n",
       "\n",
       "    .dataframe tbody tr th {\n",
       "        vertical-align: top;\n",
       "    }\n",
       "\n",
       "    .dataframe thead th {\n",
       "        text-align: right;\n",
       "    }\n",
       "</style>\n",
       "<table border=\"1\" class=\"dataframe\">\n",
       "  <thead>\n",
       "    <tr style=\"text-align: right;\">\n",
       "      <th></th>\n",
       "      <th>max</th>\n",
       "      <th>agg</th>\n",
       "      <th>sel</th>\n",
       "      <th>where</th>\n",
       "    </tr>\n",
       "  </thead>\n",
       "  <tbody>\n",
       "    <tr>\n",
       "      <th>dev</th>\n",
       "      <td>0.644181</td>\n",
       "      <td>0.901781</td>\n",
       "      <td>0.938955</td>\n",
       "      <td>0.753919</td>\n",
       "    </tr>\n",
       "    <tr>\n",
       "      <th>train</th>\n",
       "      <td>0.910335</td>\n",
       "      <td>0.994464</td>\n",
       "      <td>0.999326</td>\n",
       "      <td>0.913316</td>\n",
       "    </tr>\n",
       "  </tbody>\n",
       "</table>\n",
       "</div>"
      ],
      "text/plain": [
       "            max       agg       sel     where\n",
       "dev    0.644181  0.901781  0.938955  0.753919\n",
       "train  0.910335  0.994464  0.999326  0.913316"
      ]
     },
     "execution_count": 10,
     "metadata": {},
     "output_type": "execute_result"
    }
   ],
   "source": [
    "mk_dataframe(next(iter(results_train)))"
   ]
  },
  {
   "cell_type": "code",
   "execution_count": 11,
   "metadata": {
    "ExecuteTime": {
     "end_time": "2019-09-27T07:13:36.862027Z",
     "start_time": "2019-09-27T07:13:36.816906Z"
    }
   },
   "outputs": [
    {
     "name": "stdout",
     "output_type": "stream",
     "text": [
      "Model:  100d_types_single_kg\n"
     ]
    },
    {
     "data": {
      "text/html": [
       "<div>\n",
       "<style scoped>\n",
       "    .dataframe tbody tr th:only-of-type {\n",
       "        vertical-align: middle;\n",
       "    }\n",
       "\n",
       "    .dataframe tbody tr th {\n",
       "        vertical-align: top;\n",
       "    }\n",
       "\n",
       "    .dataframe thead th {\n",
       "        text-align: right;\n",
       "    }\n",
       "</style>\n",
       "<table border=\"1\" class=\"dataframe\">\n",
       "  <thead>\n",
       "    <tr style=\"text-align: right;\">\n",
       "      <th></th>\n",
       "      <th>max</th>\n",
       "      <th>agg</th>\n",
       "      <th>sel</th>\n",
       "      <th>where</th>\n",
       "      <th>qm_acc</th>\n",
       "      <th>ex_acc</th>\n",
       "    </tr>\n",
       "  </thead>\n",
       "  <tbody>\n",
       "    <tr>\n",
       "      <th>dev</th>\n",
       "      <td>_</td>\n",
       "      <td>0.898456</td>\n",
       "      <td>0.922328</td>\n",
       "      <td>0.773515</td>\n",
       "      <td>0.663302</td>\n",
       "      <td>0.730879</td>\n",
       "    </tr>\n",
       "    <tr>\n",
       "      <th>test</th>\n",
       "      <td>_</td>\n",
       "      <td>0.897588</td>\n",
       "      <td>0.912578</td>\n",
       "      <td>0.768533</td>\n",
       "      <td>0.650501</td>\n",
       "      <td>0.719028</td>\n",
       "    </tr>\n",
       "    <tr>\n",
       "      <th>train</th>\n",
       "      <td>0.966001</td>\n",
       "      <td>0.986443</td>\n",
       "      <td>0.998669</td>\n",
       "      <td>0.978404</td>\n",
       "      <td>_</td>\n",
       "      <td>_</td>\n",
       "    </tr>\n",
       "  </tbody>\n",
       "</table>\n",
       "</div>"
      ],
      "text/plain": [
       "            max       agg       sel     where    qm_acc    ex_acc\n",
       "dev           _  0.898456  0.922328  0.773515  0.663302  0.730879\n",
       "test          _  0.897588  0.912578  0.768533  0.650501  0.719028\n",
       "train  0.966001  0.986443  0.998669  0.978404         _         _"
      ]
     },
     "execution_count": 11,
     "metadata": {},
     "output_type": "execute_result"
    }
   ],
   "source": [
    "mk_dataframe(next(iter(results_train)), next(iter(results_test)))"
   ]
  },
  {
   "cell_type": "code",
   "execution_count": 13,
   "metadata": {
    "ExecuteTime": {
     "end_time": "2019-09-27T07:13:42.461207Z",
     "start_time": "2019-09-27T07:13:42.442158Z"
    }
   },
   "outputs": [
    {
     "name": "stdout",
     "output_type": "stream",
     "text": [
      "Model:  600d_bert_avg_types_single_kg\n"
     ]
    },
    {
     "data": {
      "text/html": [
       "<div>\n",
       "<style scoped>\n",
       "    .dataframe tbody tr th:only-of-type {\n",
       "        vertical-align: middle;\n",
       "    }\n",
       "\n",
       "    .dataframe tbody tr th {\n",
       "        vertical-align: top;\n",
       "    }\n",
       "\n",
       "    .dataframe thead th {\n",
       "        text-align: right;\n",
       "    }\n",
       "</style>\n",
       "<table border=\"1\" class=\"dataframe\">\n",
       "  <thead>\n",
       "    <tr style=\"text-align: right;\">\n",
       "      <th></th>\n",
       "      <th>max</th>\n",
       "      <th>agg</th>\n",
       "      <th>sel</th>\n",
       "      <th>where</th>\n",
       "      <th>qm_acc</th>\n",
       "      <th>ex_acc</th>\n",
       "    </tr>\n",
       "  </thead>\n",
       "  <tbody>\n",
       "    <tr>\n",
       "      <th>dev</th>\n",
       "      <td>_</td>\n",
       "      <td>0.897356</td>\n",
       "      <td>0.885632</td>\n",
       "      <td>0.701759</td>\n",
       "      <td>0.588587</td>\n",
       "      <td>0.654504</td>\n",
       "    </tr>\n",
       "    <tr>\n",
       "      <th>test</th>\n",
       "      <td>_</td>\n",
       "      <td>0.895820</td>\n",
       "      <td>0.877074</td>\n",
       "      <td>0.701837</td>\n",
       "      <td>0.582394</td>\n",
       "      <td>0.653008</td>\n",
       "    </tr>\n",
       "    <tr>\n",
       "      <th>train</th>\n",
       "      <td>0.977567</td>\n",
       "      <td>0.986683</td>\n",
       "      <td>0.999214</td>\n",
       "      <td>0.989329</td>\n",
       "      <td>_</td>\n",
       "      <td>_</td>\n",
       "    </tr>\n",
       "  </tbody>\n",
       "</table>\n",
       "</div>"
      ],
      "text/plain": [
       "            max       agg       sel     where    qm_acc    ex_acc\n",
       "dev           _  0.897356  0.885632  0.701759  0.588587  0.654504\n",
       "test          _  0.895820  0.877074  0.701837  0.582394  0.653008\n",
       "train  0.977567  0.986683  0.999214  0.989329         _         _"
      ]
     },
     "execution_count": 13,
     "metadata": {},
     "output_type": "execute_result"
    }
   ],
   "source": [
    "mk_dataframe(next(iter(results_train)), next(iter(results_test)))"
   ]
  },
  {
   "cell_type": "code",
   "execution_count": 14,
   "metadata": {
    "ExecuteTime": {
     "end_time": "2019-09-27T07:13:43.964401Z",
     "start_time": "2019-09-27T07:13:43.945349Z"
    },
    "scrolled": true
   },
   "outputs": [
    {
     "name": "stdout",
     "output_type": "stream",
     "text": [
      "Model:  600d_bert_max-pool_types_single_kg\n"
     ]
    },
    {
     "data": {
      "text/html": [
       "<div>\n",
       "<style scoped>\n",
       "    .dataframe tbody tr th:only-of-type {\n",
       "        vertical-align: middle;\n",
       "    }\n",
       "\n",
       "    .dataframe tbody tr th {\n",
       "        vertical-align: top;\n",
       "    }\n",
       "\n",
       "    .dataframe thead th {\n",
       "        text-align: right;\n",
       "    }\n",
       "</style>\n",
       "<table border=\"1\" class=\"dataframe\">\n",
       "  <thead>\n",
       "    <tr style=\"text-align: right;\">\n",
       "      <th></th>\n",
       "      <th>max</th>\n",
       "      <th>agg</th>\n",
       "      <th>sel</th>\n",
       "      <th>where</th>\n",
       "      <th>qm_acc</th>\n",
       "      <th>ex_acc</th>\n",
       "    </tr>\n",
       "  </thead>\n",
       "  <tbody>\n",
       "    <tr>\n",
       "      <th>dev</th>\n",
       "      <td>_</td>\n",
       "      <td>0.898911</td>\n",
       "      <td>0.891255</td>\n",
       "      <td>0.699844</td>\n",
       "      <td>0.585118</td>\n",
       "      <td>0.65582</td>\n",
       "    </tr>\n",
       "    <tr>\n",
       "      <th>test</th>\n",
       "      <td>_</td>\n",
       "      <td>0.901520</td>\n",
       "      <td>0.883471</td>\n",
       "      <td>0.702217</td>\n",
       "      <td>0.588157</td>\n",
       "      <td>0.657061</td>\n",
       "    </tr>\n",
       "    <tr>\n",
       "      <th>train</th>\n",
       "      <td>0.979605</td>\n",
       "      <td>0.988578</td>\n",
       "      <td>0.999446</td>\n",
       "      <td>0.990133</td>\n",
       "      <td>_</td>\n",
       "      <td>_</td>\n",
       "    </tr>\n",
       "  </tbody>\n",
       "</table>\n",
       "</div>"
      ],
      "text/plain": [
       "            max       agg       sel     where    qm_acc    ex_acc\n",
       "dev           _  0.898911  0.891255  0.699844  0.585118   0.65582\n",
       "test          _  0.901520  0.883471  0.702217  0.588157  0.657061\n",
       "train  0.979605  0.988578  0.999446  0.990133         _         _"
      ]
     },
     "execution_count": 14,
     "metadata": {},
     "output_type": "execute_result"
    }
   ],
   "source": [
    "mk_dataframe(next(iter(results_train)), next(iter(results_test)))"
   ]
  },
  {
   "cell_type": "code",
   "execution_count": 15,
   "metadata": {
    "ExecuteTime": {
     "end_time": "2019-09-27T07:13:45.334635Z",
     "start_time": "2019-09-27T07:13:45.316587Z"
    },
    "scrolled": false
   },
   "outputs": [
    {
     "name": "stdout",
     "output_type": "stream",
     "text": [
      "Model:  600d_types_single_kg\n"
     ]
    },
    {
     "data": {
      "text/html": [
       "<div>\n",
       "<style scoped>\n",
       "    .dataframe tbody tr th:only-of-type {\n",
       "        vertical-align: middle;\n",
       "    }\n",
       "\n",
       "    .dataframe tbody tr th {\n",
       "        vertical-align: top;\n",
       "    }\n",
       "\n",
       "    .dataframe thead th {\n",
       "        text-align: right;\n",
       "    }\n",
       "</style>\n",
       "<table border=\"1\" class=\"dataframe\">\n",
       "  <thead>\n",
       "    <tr style=\"text-align: right;\">\n",
       "      <th></th>\n",
       "      <th>max</th>\n",
       "      <th>agg</th>\n",
       "      <th>sel</th>\n",
       "      <th>where</th>\n",
       "      <th>qm_acc</th>\n",
       "      <th>ex_acc</th>\n",
       "    </tr>\n",
       "  </thead>\n",
       "  <tbody>\n",
       "    <tr>\n",
       "      <th>dev</th>\n",
       "      <td>_</td>\n",
       "      <td>0.898694</td>\n",
       "      <td>0.929335</td>\n",
       "      <td>0.783017</td>\n",
       "      <td>0.672328</td>\n",
       "      <td>0.735036</td>\n",
       "    </tr>\n",
       "    <tr>\n",
       "      <th>test</th>\n",
       "      <td>_</td>\n",
       "      <td>0.899855</td>\n",
       "      <td>0.919065</td>\n",
       "      <td>0.780311</td>\n",
       "      <td>0.666373</td>\n",
       "      <td>0.733955</td>\n",
       "    </tr>\n",
       "    <tr>\n",
       "      <th>train</th>\n",
       "      <td>0.977766</td>\n",
       "      <td>0.993008</td>\n",
       "      <td>0.999201</td>\n",
       "      <td>0.982699</td>\n",
       "      <td>_</td>\n",
       "      <td>_</td>\n",
       "    </tr>\n",
       "  </tbody>\n",
       "</table>\n",
       "</div>"
      ],
      "text/plain": [
       "            max       agg       sel     where    qm_acc    ex_acc\n",
       "dev           _  0.898694  0.929335  0.783017  0.672328  0.735036\n",
       "test          _  0.899855  0.919065  0.780311  0.666373  0.733955\n",
       "train  0.977766  0.993008  0.999201  0.982699         _         _"
      ]
     },
     "execution_count": 15,
     "metadata": {},
     "output_type": "execute_result"
    }
   ],
   "source": [
    "mk_dataframe(next(iter(results_train)), next(iter(results_test)))"
   ]
  },
  {
   "cell_type": "code",
   "execution_count": 16,
   "metadata": {
    "ExecuteTime": {
     "end_time": "2019-09-27T07:13:46.838228Z",
     "start_time": "2019-09-27T07:13:46.826195Z"
    }
   },
   "outputs": [
    {
     "ename": "StopIteration",
     "evalue": "",
     "output_type": "error",
     "traceback": [
      "\u001b[1;31m---------------------------------------------------------------------------\u001b[0m",
      "\u001b[1;31mStopIteration\u001b[0m                             Traceback (most recent call last)",
      "\u001b[1;32m<ipython-input-16-4785ac689e70>\u001b[0m in \u001b[0;36m<module>\u001b[1;34m\u001b[0m\n\u001b[1;32m----> 1\u001b[1;33m \u001b[0mmk_dataframe\u001b[0m\u001b[1;33m(\u001b[0m\u001b[0mnext\u001b[0m\u001b[1;33m(\u001b[0m\u001b[0miter\u001b[0m\u001b[1;33m(\u001b[0m\u001b[0mresults_train\u001b[0m\u001b[1;33m)\u001b[0m\u001b[1;33m)\u001b[0m\u001b[1;33m,\u001b[0m \u001b[0mnext\u001b[0m\u001b[1;33m(\u001b[0m\u001b[0miter\u001b[0m\u001b[1;33m(\u001b[0m\u001b[0mresults_test\u001b[0m\u001b[1;33m)\u001b[0m\u001b[1;33m)\u001b[0m\u001b[1;33m)\u001b[0m\u001b[1;33m\u001b[0m\u001b[1;33m\u001b[0m\u001b[0m\n\u001b[0m",
      "\u001b[1;31mStopIteration\u001b[0m: "
     ]
    }
   ],
   "source": [
    "mk_dataframe(next(iter(results_train)), next(iter(results_test)))"
   ]
  },
  {
   "cell_type": "code",
   "execution_count": null,
   "metadata": {
    "ExecuteTime": {
     "end_time": "2019-09-27T07:13:36.900128Z",
     "start_time": "2019-09-27T07:13:35.421Z"
    }
   },
   "outputs": [],
   "source": [
    "mk_dataframe(next(iter(results_train)), next(iter(results_test)))"
   ]
  },
  {
   "cell_type": "code",
   "execution_count": null,
   "metadata": {
    "ExecuteTime": {
     "end_time": "2019-09-27T07:13:36.902133Z",
     "start_time": "2019-09-27T07:13:35.425Z"
    },
    "scrolled": true
   },
   "outputs": [],
   "source": [
    "for i in range(len(filenames)):\n",
    "    show_plots('acc', i)"
   ]
  },
  {
   "cell_type": "code",
   "execution_count": null,
   "metadata": {
    "ExecuteTime": {
     "end_time": "2019-09-27T07:13:36.905143Z",
     "start_time": "2019-09-27T07:13:35.427Z"
    }
   },
   "outputs": [],
   "source": [
    "for i in range(len(filenames)):\n",
    "    show_plots('loss', i)"
   ]
  }
 ],
 "metadata": {
  "hide_input": false,
  "kernelspec": {
   "display_name": "Python 3",
   "language": "python",
   "name": "python3"
  },
  "language_info": {
   "codemirror_mode": {
    "name": "ipython",
    "version": 3
   },
   "file_extension": ".py",
   "mimetype": "text/x-python",
   "name": "python",
   "nbconvert_exporter": "python",
   "pygments_lexer": "ipython3",
   "version": "3.7.3"
  },
  "latex_envs": {
   "LaTeX_envs_menu_present": true,
   "autoclose": false,
   "autocomplete": true,
   "bibliofile": "biblio.bib",
   "cite_by": "apalike",
   "current_citInitial": 1,
   "eqLabelWithNumbers": true,
   "eqNumInitial": 1,
   "hotkeys": {
    "equation": "Ctrl-E",
    "itemize": "Ctrl-I"
   },
   "labels_anchors": false,
   "latex_user_defs": false,
   "report_style_numbering": false,
   "user_envs_cfg": false
  },
  "toc": {
   "base_numbering": 1,
   "nav_menu": {},
   "number_sections": true,
   "sideBar": true,
   "skip_h1_title": false,
   "title_cell": "Table of Contents",
   "title_sidebar": "Contents",
   "toc_cell": false,
   "toc_position": {},
   "toc_section_display": true,
   "toc_window_display": false
  },
  "varInspector": {
   "cols": {
    "lenName": 16,
    "lenType": 16,
    "lenVar": 40
   },
   "kernels_config": {
    "python": {
     "delete_cmd_postfix": "",
     "delete_cmd_prefix": "del ",
     "library": "var_list.py",
     "varRefreshCmd": "print(var_dic_list())"
    },
    "r": {
     "delete_cmd_postfix": ") ",
     "delete_cmd_prefix": "rm(",
     "library": "var_list.r",
     "varRefreshCmd": "cat(var_dic_list()) "
    }
   },
   "types_to_exclude": [
    "module",
    "function",
    "builtin_function_or_method",
    "instance",
    "_Feature"
   ],
   "window_display": false
  }
 },
 "nbformat": 4,
 "nbformat_minor": 2
}
