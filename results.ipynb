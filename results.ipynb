{
 "cells": [
  {
   "cell_type": "code",
   "execution_count": 1,
   "metadata": {
    "ExecuteTime": {
     "end_time": "2019-09-11T14:48:35.593215Z",
     "start_time": "2019-09-11T14:48:34.746635Z"
    }
   },
   "outputs": [],
   "source": [
    "import json\n",
    "import os \n",
    "import re\n",
    "import numpy as np\n",
    "import pandas as pd\n",
    "import matplotlib.pyplot as plt\n",
    "import matplotlib.image as img"
   ]
  },
  {
   "cell_type": "code",
   "execution_count": 2,
   "metadata": {
    "ExecuteTime": {
     "end_time": "2019-09-11T14:48:35.602327Z",
     "start_time": "2019-09-11T14:48:35.593215Z"
    }
   },
   "outputs": [],
   "source": [
    "def get_results(train=True):\n",
    "    global filenames\n",
    "    filenames = sorted([f for f in os.listdir(os.getcwd()+'./results/') if not f.endswith('checkpoints')])\n",
    "    for filename in filenames:\n",
    "        if train:\n",
    "            with open('./results/'+ filename,'r') as f: yield filename, json.load(f)\n",
    "        else:\n",
    "            with open('./results_test/'+ filename,'r') as f: yield filename, json.load(f)"
   ]
  },
  {
   "cell_type": "code",
   "execution_count": 3,
   "metadata": {
    "ExecuteTime": {
     "end_time": "2019-09-11T14:48:35.629400Z",
     "start_time": "2019-09-11T14:48:35.605335Z"
    }
   },
   "outputs": [],
   "source": [
    "def mk_dataframe(results_train, results_test):\n",
    "    assert results_train[0]==results_test[0]\n",
    "    filename, results_train = results_train\n",
    "    _, results_test = results_test\n",
    "    #del results_test['dev']['total_acc']\n",
    "    #del results_test['test']['total_acc']\n",
    "    #del results_test['dev']['exec_acc']\n",
    "    #del results_test['test']['exec_acc']\n",
    "    results_test.update(results_train)\n",
    "    print(\"Model: \", filename.strip('.json'))\n",
    "    return pd.DataFrame.from_dict(results_test, orient='index')"
   ]
  },
  {
   "cell_type": "code",
   "execution_count": 4,
   "metadata": {
    "ExecuteTime": {
     "end_time": "2019-09-11T14:48:35.640428Z",
     "start_time": "2019-09-11T14:48:35.631405Z"
    }
   },
   "outputs": [],
   "source": [
    "def show_plots(metric, idx):\n",
    "    folder = 'losses/' if metric == 'loss' else 'accs/'\n",
    "    filename = './plots/' + folder + os.listdir(os.getcwd() + './plots/' + folder)[idx]  \n",
    "    print(\"Model: \", re.sub(r'./plots/' + folder, '', filename.replace('.png', '')))\n",
    "    image = img.imread(filename)\n",
    "    plt.clf()\n",
    "    plt.figure(dpi=100)\n",
    "    plt.imshow(image)\n",
    "    plt.show()"
   ]
  },
  {
   "cell_type": "code",
   "execution_count": 5,
   "metadata": {
    "ExecuteTime": {
     "end_time": "2019-09-11T14:48:35.650457Z",
     "start_time": "2019-09-11T14:48:35.642433Z"
    }
   },
   "outputs": [],
   "source": [
    "results_train = get_results()\n",
    "results_test = get_results(train=False)"
   ]
  },
  {
   "cell_type": "code",
   "execution_count": 6,
   "metadata": {
    "ExecuteTime": {
     "end_time": "2019-09-11T14:48:35.691565Z",
     "start_time": "2019-09-11T14:48:35.654467Z"
    }
   },
   "outputs": [
    {
     "name": "stdout",
     "output_type": "stream",
     "text": [
      "Model:  100d_bert_avg_pos_types_single_kg\n"
     ]
    },
    {
     "data": {
      "text/html": [
       "<div>\n",
       "<style scoped>\n",
       "    .dataframe tbody tr th:only-of-type {\n",
       "        vertical-align: middle;\n",
       "    }\n",
       "\n",
       "    .dataframe tbody tr th {\n",
       "        vertical-align: top;\n",
       "    }\n",
       "\n",
       "    .dataframe thead th {\n",
       "        text-align: right;\n",
       "    }\n",
       "</style>\n",
       "<table border=\"1\" class=\"dataframe\">\n",
       "  <thead>\n",
       "    <tr style=\"text-align: right;\">\n",
       "      <th></th>\n",
       "      <th>max</th>\n",
       "      <th>agg</th>\n",
       "      <th>sel</th>\n",
       "      <th>where</th>\n",
       "      <th>total_acc</th>\n",
       "      <th>exec_acc</th>\n",
       "    </tr>\n",
       "  </thead>\n",
       "  <tbody>\n",
       "    <tr>\n",
       "      <th>dev</th>\n",
       "      <td>0.548630</td>\n",
       "      <td>0.898792</td>\n",
       "      <td>0.873430</td>\n",
       "      <td>0.678789</td>\n",
       "      <td>NaN</td>\n",
       "      <td>NaN</td>\n",
       "    </tr>\n",
       "    <tr>\n",
       "      <th>test</th>\n",
       "      <td>NaN</td>\n",
       "      <td>0.897213</td>\n",
       "      <td>0.863331</td>\n",
       "      <td>0.572324</td>\n",
       "      <td>0.470678</td>\n",
       "      <td>0.566181</td>\n",
       "    </tr>\n",
       "    <tr>\n",
       "      <th>train</th>\n",
       "      <td>0.968558</td>\n",
       "      <td>0.988703</td>\n",
       "      <td>0.999124</td>\n",
       "      <td>0.973063</td>\n",
       "      <td>NaN</td>\n",
       "      <td>NaN</td>\n",
       "    </tr>\n",
       "  </tbody>\n",
       "</table>\n",
       "</div>"
      ],
      "text/plain": [
       "            max       agg       sel     where  total_acc  exec_acc\n",
       "dev    0.548630  0.898792  0.873430  0.678789        NaN       NaN\n",
       "test        NaN  0.897213  0.863331  0.572324   0.470678  0.566181\n",
       "train  0.968558  0.988703  0.999124  0.973063        NaN       NaN"
      ]
     },
     "execution_count": 6,
     "metadata": {},
     "output_type": "execute_result"
    }
   ],
   "source": [
    "mk_dataframe(next(iter(results_train)), next(iter(results_test)))"
   ]
  },
  {
   "cell_type": "code",
   "execution_count": 7,
   "metadata": {
    "ExecuteTime": {
     "end_time": "2019-09-11T14:48:35.709612Z",
     "start_time": "2019-09-11T14:48:35.693571Z"
    }
   },
   "outputs": [
    {
     "name": "stdout",
     "output_type": "stream",
     "text": [
      "Model:  100d_bert_avg_types_single_kg\n"
     ]
    },
    {
     "data": {
      "text/html": [
       "<div>\n",
       "<style scoped>\n",
       "    .dataframe tbody tr th:only-of-type {\n",
       "        vertical-align: middle;\n",
       "    }\n",
       "\n",
       "    .dataframe tbody tr th {\n",
       "        vertical-align: top;\n",
       "    }\n",
       "\n",
       "    .dataframe thead th {\n",
       "        text-align: right;\n",
       "    }\n",
       "</style>\n",
       "<table border=\"1\" class=\"dataframe\">\n",
       "  <thead>\n",
       "    <tr style=\"text-align: right;\">\n",
       "      <th></th>\n",
       "      <th>max</th>\n",
       "      <th>agg</th>\n",
       "      <th>sel</th>\n",
       "      <th>where</th>\n",
       "      <th>total_acc</th>\n",
       "      <th>exec_acc</th>\n",
       "    </tr>\n",
       "  </thead>\n",
       "  <tbody>\n",
       "    <tr>\n",
       "      <th>dev</th>\n",
       "      <td>0.545161</td>\n",
       "      <td>0.900108</td>\n",
       "      <td>0.865654</td>\n",
       "      <td>0.679986</td>\n",
       "      <td>NaN</td>\n",
       "      <td>NaN</td>\n",
       "    </tr>\n",
       "    <tr>\n",
       "      <th>test</th>\n",
       "      <td>NaN</td>\n",
       "      <td>0.898797</td>\n",
       "      <td>0.853325</td>\n",
       "      <td>0.669854</td>\n",
       "      <td>0.545092</td>\n",
       "      <td>0.616719</td>\n",
       "    </tr>\n",
       "    <tr>\n",
       "      <th>train</th>\n",
       "      <td>0.956636</td>\n",
       "      <td>0.984717</td>\n",
       "      <td>0.998945</td>\n",
       "      <td>0.972384</td>\n",
       "      <td>NaN</td>\n",
       "      <td>NaN</td>\n",
       "    </tr>\n",
       "  </tbody>\n",
       "</table>\n",
       "</div>"
      ],
      "text/plain": [
       "            max       agg       sel     where  total_acc  exec_acc\n",
       "dev    0.545161  0.900108  0.865654  0.679986        NaN       NaN\n",
       "test        NaN  0.898797  0.853325  0.669854   0.545092  0.616719\n",
       "train  0.956636  0.984717  0.998945  0.972384        NaN       NaN"
      ]
     },
     "execution_count": 7,
     "metadata": {},
     "output_type": "execute_result"
    }
   ],
   "source": [
    "mk_dataframe(next(iter(results_train)), next(iter(results_test)))"
   ]
  },
  {
   "cell_type": "code",
   "execution_count": 8,
   "metadata": {
    "ExecuteTime": {
     "end_time": "2019-09-11T14:48:35.726658Z",
     "start_time": "2019-09-11T14:48:35.711618Z"
    }
   },
   "outputs": [
    {
     "name": "stdout",
     "output_type": "stream",
     "text": [
      "Model:  100d_bert_max-pool_pos_types_single_kg\n"
     ]
    },
    {
     "data": {
      "text/html": [
       "<div>\n",
       "<style scoped>\n",
       "    .dataframe tbody tr th:only-of-type {\n",
       "        vertical-align: middle;\n",
       "    }\n",
       "\n",
       "    .dataframe tbody tr th {\n",
       "        vertical-align: top;\n",
       "    }\n",
       "\n",
       "    .dataframe thead th {\n",
       "        text-align: right;\n",
       "    }\n",
       "</style>\n",
       "<table border=\"1\" class=\"dataframe\">\n",
       "  <thead>\n",
       "    <tr style=\"text-align: right;\">\n",
       "      <th></th>\n",
       "      <th>max</th>\n",
       "      <th>agg</th>\n",
       "      <th>sel</th>\n",
       "      <th>where</th>\n",
       "      <th>total_acc</th>\n",
       "      <th>exec_acc</th>\n",
       "    </tr>\n",
       "  </thead>\n",
       "  <tbody>\n",
       "    <tr>\n",
       "      <th>dev</th>\n",
       "      <td>0.548152</td>\n",
       "      <td>0.899629</td>\n",
       "      <td>0.877019</td>\n",
       "      <td>0.678430</td>\n",
       "      <td>NaN</td>\n",
       "      <td>NaN</td>\n",
       "    </tr>\n",
       "    <tr>\n",
       "      <th>test</th>\n",
       "      <td>NaN</td>\n",
       "      <td>0.897657</td>\n",
       "      <td>0.861875</td>\n",
       "      <td>0.553515</td>\n",
       "      <td>0.456745</td>\n",
       "      <td>0.564471</td>\n",
       "    </tr>\n",
       "    <tr>\n",
       "      <th>train</th>\n",
       "      <td>0.963178</td>\n",
       "      <td>0.987649</td>\n",
       "      <td>0.999142</td>\n",
       "      <td>0.973134</td>\n",
       "      <td>NaN</td>\n",
       "      <td>NaN</td>\n",
       "    </tr>\n",
       "  </tbody>\n",
       "</table>\n",
       "</div>"
      ],
      "text/plain": [
       "            max       agg       sel     where  total_acc  exec_acc\n",
       "dev    0.548152  0.899629  0.877019  0.678430        NaN       NaN\n",
       "test        NaN  0.897657  0.861875  0.553515   0.456745  0.564471\n",
       "train  0.963178  0.987649  0.999142  0.973134        NaN       NaN"
      ]
     },
     "execution_count": 8,
     "metadata": {},
     "output_type": "execute_result"
    }
   ],
   "source": [
    "mk_dataframe(next(iter(results_train)), next(iter(results_test)))"
   ]
  },
  {
   "cell_type": "code",
   "execution_count": 9,
   "metadata": {
    "ExecuteTime": {
     "end_time": "2019-09-11T14:48:35.745710Z",
     "start_time": "2019-09-11T14:48:35.728663Z"
    }
   },
   "outputs": [
    {
     "name": "stdout",
     "output_type": "stream",
     "text": [
      "Model:  100d_bert_max-pool_types_single_kg\n"
     ]
    },
    {
     "data": {
      "text/html": [
       "<div>\n",
       "<style scoped>\n",
       "    .dataframe tbody tr th:only-of-type {\n",
       "        vertical-align: middle;\n",
       "    }\n",
       "\n",
       "    .dataframe tbody tr th {\n",
       "        vertical-align: top;\n",
       "    }\n",
       "\n",
       "    .dataframe thead th {\n",
       "        text-align: right;\n",
       "    }\n",
       "</style>\n",
       "<table border=\"1\" class=\"dataframe\">\n",
       "  <thead>\n",
       "    <tr style=\"text-align: right;\">\n",
       "      <th></th>\n",
       "      <th>max</th>\n",
       "      <th>agg</th>\n",
       "      <th>sel</th>\n",
       "      <th>where</th>\n",
       "      <th>total_acc</th>\n",
       "      <th>exec_acc</th>\n",
       "    </tr>\n",
       "  </thead>\n",
       "  <tbody>\n",
       "    <tr>\n",
       "      <th>dev</th>\n",
       "      <td>0.536428</td>\n",
       "      <td>0.899270</td>\n",
       "      <td>0.868046</td>\n",
       "      <td>0.673286</td>\n",
       "      <td>NaN</td>\n",
       "      <td>NaN</td>\n",
       "    </tr>\n",
       "    <tr>\n",
       "      <th>test</th>\n",
       "      <td>NaN</td>\n",
       "      <td>0.898417</td>\n",
       "      <td>0.854908</td>\n",
       "      <td>0.666751</td>\n",
       "      <td>0.546105</td>\n",
       "      <td>0.619569</td>\n",
       "    </tr>\n",
       "    <tr>\n",
       "      <th>train</th>\n",
       "      <td>0.959514</td>\n",
       "      <td>0.990151</td>\n",
       "      <td>0.999035</td>\n",
       "      <td>0.969953</td>\n",
       "      <td>NaN</td>\n",
       "      <td>NaN</td>\n",
       "    </tr>\n",
       "  </tbody>\n",
       "</table>\n",
       "</div>"
      ],
      "text/plain": [
       "            max       agg       sel     where  total_acc  exec_acc\n",
       "dev    0.536428  0.899270  0.868046  0.673286        NaN       NaN\n",
       "test        NaN  0.898417  0.854908  0.666751   0.546105  0.619569\n",
       "train  0.959514  0.990151  0.999035  0.969953        NaN       NaN"
      ]
     },
     "execution_count": 9,
     "metadata": {},
     "output_type": "execute_result"
    }
   ],
   "source": [
    "mk_dataframe(next(iter(results_train)), next(iter(results_test)))"
   ]
  },
  {
   "cell_type": "code",
   "execution_count": 10,
   "metadata": {
    "ExecuteTime": {
     "end_time": "2019-09-11T14:48:35.768770Z",
     "start_time": "2019-09-11T14:48:35.748717Z"
    }
   },
   "outputs": [
    {
     "name": "stdout",
     "output_type": "stream",
     "text": [
      "Model:  100d_pos_types_single_kg\n"
     ]
    },
    {
     "data": {
      "text/html": [
       "<div>\n",
       "<style scoped>\n",
       "    .dataframe tbody tr th:only-of-type {\n",
       "        vertical-align: middle;\n",
       "    }\n",
       "\n",
       "    .dataframe tbody tr th {\n",
       "        vertical-align: top;\n",
       "    }\n",
       "\n",
       "    .dataframe thead th {\n",
       "        text-align: right;\n",
       "    }\n",
       "</style>\n",
       "<table border=\"1\" class=\"dataframe\">\n",
       "  <thead>\n",
       "    <tr style=\"text-align: right;\">\n",
       "      <th></th>\n",
       "      <th>max</th>\n",
       "      <th>agg</th>\n",
       "      <th>sel</th>\n",
       "      <th>where</th>\n",
       "      <th>total_acc</th>\n",
       "      <th>exec_acc</th>\n",
       "    </tr>\n",
       "  </thead>\n",
       "  <tbody>\n",
       "    <tr>\n",
       "      <th>dev</th>\n",
       "      <td>0.651900</td>\n",
       "      <td>0.899406</td>\n",
       "      <td>0.931235</td>\n",
       "      <td>0.779929</td>\n",
       "      <td>NaN</td>\n",
       "      <td>NaN</td>\n",
       "    </tr>\n",
       "    <tr>\n",
       "      <th>test</th>\n",
       "      <td>NaN</td>\n",
       "      <td>0.898218</td>\n",
       "      <td>0.913964</td>\n",
       "      <td>0.334635</td>\n",
       "      <td>0.282673</td>\n",
       "      <td>0.428292</td>\n",
       "    </tr>\n",
       "    <tr>\n",
       "      <th>train</th>\n",
       "      <td>0.968804</td>\n",
       "      <td>0.988271</td>\n",
       "      <td>0.998758</td>\n",
       "      <td>0.979771</td>\n",
       "      <td>NaN</td>\n",
       "      <td>NaN</td>\n",
       "    </tr>\n",
       "  </tbody>\n",
       "</table>\n",
       "</div>"
      ],
      "text/plain": [
       "            max       agg       sel     where  total_acc  exec_acc\n",
       "dev    0.651900  0.899406  0.931235  0.779929        NaN       NaN\n",
       "test        NaN  0.898218  0.913964  0.334635   0.282673  0.428292\n",
       "train  0.968804  0.988271  0.998758  0.979771        NaN       NaN"
      ]
     },
     "execution_count": 10,
     "metadata": {},
     "output_type": "execute_result"
    }
   ],
   "source": [
    "mk_dataframe(next(iter(results_train)), next(iter(results_test)))"
   ]
  },
  {
   "cell_type": "code",
   "execution_count": 11,
   "metadata": {
    "ExecuteTime": {
     "end_time": "2019-09-11T14:48:35.786818Z",
     "start_time": "2019-09-11T14:48:35.770775Z"
    }
   },
   "outputs": [
    {
     "name": "stdout",
     "output_type": "stream",
     "text": [
      "Model:  100d_types_single_kg\n"
     ]
    },
    {
     "data": {
      "text/html": [
       "<div>\n",
       "<style scoped>\n",
       "    .dataframe tbody tr th:only-of-type {\n",
       "        vertical-align: middle;\n",
       "    }\n",
       "\n",
       "    .dataframe tbody tr th {\n",
       "        vertical-align: top;\n",
       "    }\n",
       "\n",
       "    .dataframe thead th {\n",
       "        text-align: right;\n",
       "    }\n",
       "</style>\n",
       "<table border=\"1\" class=\"dataframe\">\n",
       "  <thead>\n",
       "    <tr style=\"text-align: right;\">\n",
       "      <th></th>\n",
       "      <th>max</th>\n",
       "      <th>agg</th>\n",
       "      <th>sel</th>\n",
       "      <th>where</th>\n",
       "      <th>total_acc</th>\n",
       "      <th>exec_acc</th>\n",
       "    </tr>\n",
       "  </thead>\n",
       "  <tbody>\n",
       "    <tr>\n",
       "      <th>dev</th>\n",
       "      <td>0.648100</td>\n",
       "      <td>0.896437</td>\n",
       "      <td>0.926247</td>\n",
       "      <td>0.777316</td>\n",
       "      <td>NaN</td>\n",
       "      <td>NaN</td>\n",
       "    </tr>\n",
       "    <tr>\n",
       "      <th>test</th>\n",
       "      <td>NaN</td>\n",
       "      <td>0.897273</td>\n",
       "      <td>0.912074</td>\n",
       "      <td>0.766644</td>\n",
       "      <td>0.648233</td>\n",
       "      <td>0.713485</td>\n",
       "    </tr>\n",
       "    <tr>\n",
       "      <th>train</th>\n",
       "      <td>0.962487</td>\n",
       "      <td>0.983036</td>\n",
       "      <td>0.998651</td>\n",
       "      <td>0.978919</td>\n",
       "      <td>NaN</td>\n",
       "      <td>NaN</td>\n",
       "    </tr>\n",
       "  </tbody>\n",
       "</table>\n",
       "</div>"
      ],
      "text/plain": [
       "            max       agg       sel     where  total_acc  exec_acc\n",
       "dev    0.648100  0.896437  0.926247  0.777316        NaN       NaN\n",
       "test        NaN  0.897273  0.912074  0.766644   0.648233  0.713485\n",
       "train  0.962487  0.983036  0.998651  0.978919        NaN       NaN"
      ]
     },
     "execution_count": 11,
     "metadata": {},
     "output_type": "execute_result"
    }
   ],
   "source": [
    "mk_dataframe(next(iter(results_train)), next(iter(results_test)))"
   ]
  },
  {
   "cell_type": "code",
   "execution_count": 12,
   "metadata": {
    "ExecuteTime": {
     "end_time": "2019-09-11T14:48:36.752467Z",
     "start_time": "2019-09-11T14:48:35.788823Z"
    },
    "scrolled": true
   },
   "outputs": [
    {
     "name": "stdout",
     "output_type": "stream",
     "text": [
      "Model:  100d_bert_avg_pos_types_single_kg\n"
     ]
    },
    {
     "data": {
      "text/plain": [
       "<Figure size 432x288 with 0 Axes>"
      ]
     },
     "metadata": {},
     "output_type": "display_data"
    },
    {
     "data": {
      "image/png": "[encoded data removed]",
      "text/plain": [
       "<Figure size 600x400 with 1 Axes>"
      ]
     },
     "metadata": {
      "needs_background": "light"
     },
     "output_type": "display_data"
    },
    {
     "name": "stdout",
     "output_type": "stream",
     "text": [
      "Model:  100d_bert_avg_types_single_kg\n"
     ]
    },
    {
     "data": {
      "text/plain": [
       "<Figure size 432x288 with 0 Axes>"
      ]
     },
     "metadata": {},
     "output_type": "display_data"
    },
    {
     "data": {
      "image/png": "[encoded data removed]",
      "text/plain": [
       "<Figure size 600x400 with 1 Axes>"
      ]
     },
     "metadata": {
      "needs_background": "light"
     },
     "output_type": "display_data"
    },
    {
     "name": "stdout",
     "output_type": "stream",
     "text": [
      "Model:  100d_bert_max-pool_pos_types_single_kg\n"
     ]
    },
    {
     "data": {
      "text/plain": [
       "<Figure size 432x288 with 0 Axes>"
      ]
     },
     "metadata": {},
     "output_type": "display_data"
    },
    {
     "data": {
      "image/png": "[encoded data removed]",
      "text/plain": [
       "<Figure size 600x400 with 1 Axes>"
      ]
     },
     "metadata": {
      "needs_background": "light"
     },
     "output_type": "display_data"
    },
    {
     "name": "stdout",
     "output_type": "stream",
     "text": [
      "Model:  100d_bert_max-pool_types_single_kg\n"
     ]
    },
    {
     "data": {
      "text/plain": [
       "<Figure size 432x288 with 0 Axes>"
      ]
     },
     "metadata": {},
     "output_type": "display_data"
    },
    {
     "data": {
      "image/png": "[encoded data removed]",
      "text/plain": [
       "<Figure size 600x400 with 1 Axes>"
      ]
     },
     "metadata": {
      "needs_background": "light"
     },
     "output_type": "display_data"
    },
    {
     "name": "stdout",
     "output_type": "stream",
     "text": [
      "Model:  100d_pos_types_single_kg\n"
     ]
    },
    {
     "data": {
      "text/plain": [
       "<Figure size 432x288 with 0 Axes>"
      ]
     },
     "metadata": {},
     "output_type": "display_data"
    },
    {
     "data": {
      "image/png": "[encoded data removed]",
      "text/plain": [
       "<Figure size 600x400 with 1 Axes>"
      ]
     },
     "metadata": {
      "needs_background": "light"
     },
     "output_type": "display_data"
    },
    {
     "name": "stdout",
     "output_type": "stream",
     "text": [
      "Model:  100d_types_single_kg\n"
     ]
    },
    {
     "data": {
      "text/plain": [
       "<Figure size 432x288 with 0 Axes>"
      ]
     },
     "metadata": {},
     "output_type": "display_data"
    },
    {
     "data": {
      "image/png": "[encoded data removed]",
      "text/plain": [
       "<Figure size 600x400 with 1 Axes>"
      ]
     },
     "metadata": {
      "needs_background": "light"
     },
     "output_type": "display_data"
    }
   ],
   "source": [
    "for i in range(len(filenames)):\n",
    "    show_plots('acc', i)"
   ]
  },
  {
   "cell_type": "code",
   "execution_count": 13,
   "metadata": {
    "ExecuteTime": {
     "end_time": "2019-09-11T14:48:36.761018Z",
     "start_time": "2019-09-11T14:48:36.754471Z"
    }
   },
   "outputs": [],
   "source": [
    "#for i in range(len(filenames)):\n",
    "#    show_plots('loss', i)"
   ]
  }
 ],
 "metadata": {
  "hide_input": false,
  "kernelspec": {
   "display_name": "Python 3",
   "language": "python",
   "name": "python3"
  },
  "language_info": {
   "codemirror_mode": {
    "name": "ipython",
    "version": 3
   },
   "file_extension": ".py",
   "mimetype": "text/x-python",
   "name": "python",
   "nbconvert_exporter": "python",
   "pygments_lexer": "ipython3",
   "version": "3.7.3"
  },
  "latex_envs": {
   "LaTeX_envs_menu_present": true,
   "autoclose": false,
   "autocomplete": true,
   "bibliofile": "biblio.bib",
   "cite_by": "apalike",
   "current_citInitial": 1,
   "eqLabelWithNumbers": true,
   "eqNumInitial": 1,
   "hotkeys": {
    "equation": "Ctrl-E",
    "itemize": "Ctrl-I"
   },
   "labels_anchors": false,
   "latex_user_defs": false,
   "report_style_numbering": false,
   "user_envs_cfg": false
  },
  "toc": {
   "base_numbering": 1,
   "nav_menu": {},
   "number_sections": true,
   "sideBar": true,
   "skip_h1_title": false,
   "title_cell": "Table of Contents",
   "title_sidebar": "Contents",
   "toc_cell": false,
   "toc_position": {},
   "toc_section_display": true,
   "toc_window_display": false
  },
  "varInspector": {
   "cols": {
    "lenName": 16,
    "lenType": 16,
    "lenVar": 40
   },
   "kernels_config": {
    "python": {
     "delete_cmd_postfix": "",
     "delete_cmd_prefix": "del ",
     "library": "var_list.py",
     "varRefreshCmd": "print(var_dic_list())"
    },
    "r": {
     "delete_cmd_postfix": ") ",
     "delete_cmd_prefix": "rm(",
     "library": "var_list.r",
     "varRefreshCmd": "cat(var_dic_list()) "
    }
   },
   "types_to_exclude": [
    "module",
    "function",
    "builtin_function_or_method",
    "instance",
    "_Feature"
   ],
   "window_display": false
  }
 },
 "nbformat": 4,
 "nbformat_minor": 2
}
