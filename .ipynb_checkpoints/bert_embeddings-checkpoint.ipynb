{
 "cells": [
  {
   "cell_type": "code",
   "execution_count": 1,
   "metadata": {
    "ExecuteTime": {
     "end_time": "2019-09-27T06:59:54.574455Z",
     "start_time": "2019-09-27T06:59:41.657148Z"
    }
   },
   "outputs": [],
   "source": [
    "import json\n",
    "import re\n",
    "import torch \n",
    "import unicodedata\n",
    "import numpy as np\n",
    "\n",
    "from sklearn.decomposition import PCA\n",
    "from pytorch_transformers import *\n",
    "from typesql.utils import *\n",
    "from retokenizer import Retokenizer"
   ]
  },
  {
   "cell_type": "code",
   "execution_count": 2,
   "metadata": {
    "ExecuteTime": {
     "end_time": "2019-09-18T15:05:53.085018Z",
     "start_time": "2019-09-18T15:05:32.907946Z"
    },
    "code_folding": [],
    "scrolled": false
   },
   "outputs": [
    {
     "name": "stdout",
     "output_type": "stream",
     "text": [
      "Loading from original dataset\n",
      "Loading data from data/train_tok.jsonl\n",
      "Loading data from data/train_tok.tables.jsonl\n",
      "Loading data from data/dev_tok.jsonl\n",
      "Loading data from data/dev_tok.tables.jsonl\n",
      "Loading data from data/test_tok.jsonl\n",
      "Loading data from data/test_tok.tables.jsonl\n"
     ]
    }
   ],
   "source": [
    "sql_data, table_data, val_sql_data, val_table_data, \\\n",
    "            test_sql_data, test_table_data, \\\n",
    "            TRAIN_DB, DEV_DB, TEST_DB = load_dataset(use_small=False) # False (full dataset)"
   ]
  },
  {
   "cell_type": "code",
   "execution_count": 3,
   "metadata": {
    "ExecuteTime": {
     "end_time": "2019-09-18T15:06:03.169672Z",
     "start_time": "2019-09-18T15:06:03.150598Z"
    },
    "code_folding": [
     0
    ]
   },
   "outputs": [],
   "source": [
    "def concatenate_sql_data(sql_data_train, sql_data_val, sql_data_test):\n",
    "    sql_data_train.extend(sql_data_val)\n",
    "    sql_data_train.extend(sql_data_test)\n",
    "    return sql_data_train"
   ]
  },
  {
   "cell_type": "code",
   "execution_count": 4,
   "metadata": {
    "ExecuteTime": {
     "end_time": "2019-09-18T15:06:12.620736Z",
     "start_time": "2019-09-18T15:06:12.614719Z"
    },
    "code_folding": [
     0
    ]
   },
   "outputs": [],
   "source": [
    "def count_context_toks(tok = 'the'): \n",
    "    unique_toks = set()\n",
    "    for sent_id in sent_idxs:\n",
    "        string = tokenizer.decode(sent_id[0])\n",
    "        string = string.split()\n",
    "        if tok in string:\n",
    "            idx = string.index(tok)\n",
    "            unique_toks.add(sent_id[0][idx])\n",
    "    return len(unique_toks)"
   ]
  },
  {
   "cell_type": "code",
   "execution_count": 5,
   "metadata": {
    "ExecuteTime": {
     "end_time": "2019-09-18T15:06:21.815072Z",
     "start_time": "2019-09-18T15:06:21.797423Z"
    },
    "code_folding": [
     0
    ]
   },
   "outputs": [],
   "source": [
    "def extract_questions(sql_data, tokenize = True):\n",
    "    key = 'question_tok' if tokenize else 'question'\n",
    "    return list(map(lambda el:el[key], sql_data))"
   ]
  },
  {
   "cell_type": "code",
   "execution_count": 6,
   "metadata": {
    "ExecuteTime": {
     "end_time": "2019-09-18T15:06:30.975263Z",
     "start_time": "2019-09-18T15:06:30.969248Z"
    },
    "code_folding": [
     0
    ]
   },
   "outputs": [],
   "source": [
    "def bert_preprocessing(questions, flatten = False):\n",
    "    \"\"\"\n",
    "        Args: Raw natural language questions represented as strings. \n",
    "        Computation: Sentence preprocessing steps necessary for BERT model.\n",
    "                    Each sentence is required to be preceded by a special [CLS] token\n",
    "                    and followed by a special [SEP] token.\n",
    "                    Token IDs arrays have to be converted into tensors \n",
    "                    before they can be passed to BERT. \n",
    "        Return: tokenized questions, token IDs, segment IDs (i.e., ones),\n",
    "                tuples of (tokens, ids) either per token-id-pair or as a list per sentence.\n",
    "    \"\"\"\n",
    "    tokenizer = BertTokenizer.from_pretrained('bert-base-uncased')\n",
    "    questions = list(map(lambda q: '[CLS]' + ' ' + ' '.join(q) + ' ' +'[SEP]', questions))\n",
    "    tok_questions = [tokenizer.tokenize(q) for q in questions]\n",
    "    indexed_tokens = [torch.tensor([tokenizer.convert_tokens_to_ids(tok_q)], dtype=torch.long) \\\n",
    "                      for tok_q in tok_questions]\n",
    "    segment_ids = [torch.tensor([np.ones(len(q), dtype=int)],dtype=torch.long) \\\n",
    "                   for q in tok_questions]\n",
    "    \n",
    "    idx2word = {idx.item(): tok_w for tok_q, indexes in zip(tok_questions, indexed_tokens) \\\n",
    "                for tok_w, idx in zip(tok_q, indexes[0])}\n",
    "    \n",
    "    return tok_questions, indexed_tokens, segment_ids, idx2word"
   ]
  },
  {
   "cell_type": "code",
   "execution_count": 7,
   "metadata": {
    "ExecuteTime": {
     "end_time": "2019-09-18T15:06:41.040642Z",
     "start_time": "2019-09-18T15:06:41.025050Z"
    },
    "code_folding": [
     0
    ]
   },
   "outputs": [],
   "source": [
    "#TODO: investigate how you can make this function work properly \n",
    "#FOR NOW: just use token representations of last hidden layer (implemented in cell below)\n",
    "def get_summed_embeddings(model, toks_ids, segment_ids):\n",
    "    \"\"\"\n",
    "        Input: BertModel, token id tensors, segment id tensors\n",
    "        Computation: Convert the hidden state embeddings into single token vectors\n",
    "                     Holds the list of 12 layer embeddings for each token\n",
    "                     Will have the shape: [# tokens, # layers, # features]\n",
    "        Output: Bert context embedding for each token in the question.\n",
    "                Final token embedding is the sum over the last four hidden layer representions.\n",
    "    \"\"\"\n",
    "    # encoded_layers = model(toks_ids, segment_ids)[0]\n",
    "    encoded_layers, _ = model(toks_ids)[-2:]\n",
    "    token_embeddings = np.zeros((len(toks_ids[0]), 768), dtype=float)\n",
    "    hidden_size = 12\n",
    "    batch_i = 0\n",
    "    for token_i in range(len(toks_ids[0])):\n",
    "        # 12 layers of hidden states for each token\n",
    "        hidden_layers = np.zeros((hidden_size, 768), dtype=float) \n",
    "        for layer_i in range(len(encoded_layers)):\n",
    "            hidden_layers[layer_i] = encoded_layers[layer_i][batch_i][token_i]\n",
    "        # each token's embedding is represented as a sum of the last four hidden layers\n",
    "        token_embeddings[token_i] = torch.sum(torch.stack(hidden_layers[token_i])[-4:], 0).numpy()\n",
    "    return token_embeddings"
   ]
  },
  {
   "cell_type": "code",
   "execution_count": 8,
   "metadata": {
    "ExecuteTime": {
     "end_time": "2019-09-18T15:06:50.868761Z",
     "start_time": "2019-09-18T15:06:50.853149Z"
    },
    "code_folding": [
     0
    ]
   },
   "outputs": [],
   "source": [
    "def bert_token_ids(sql_data, bert_questions, bert_ids, arbitrary_id = 99999):\n",
    "    rejoined_toks = list()\n",
    "    rejoined_ids = list()\n",
    "    retokenizer = Retokenizer(merge=None, embeddings=False)\n",
    "    for i, (question, bert_question, bert_id) in enumerate(zip(sql_data, bert_questions, bert_ids)):\n",
    "        bert_id = list(bert_id[0].numpy())\n",
    "        new_toks, new_ids, new_id = retokenizer.retokenize(question['question_tok'], bert_question[1:-1], bert_id[1:-1], arbitrary_id)\n",
    "        arbitrary_id = new_id\n",
    "        rejoined_toks.append(new_toks)\n",
    "        rejoined_ids.append(new_ids)\n",
    "    return rejoined_toks, rejoined_ids"
   ]
  },
  {
   "cell_type": "code",
   "execution_count": 9,
   "metadata": {
    "ExecuteTime": {
     "end_time": "2019-09-18T15:07:00.294545Z",
     "start_time": "2019-09-18T15:07:00.276645Z"
    },
    "code_folding": [
     0
    ]
   },
   "outputs": [],
   "source": [
    "def bert_embeddings(bert_questions, bert_ids, segment_ids, sql_data, merge, arbitrary_id = 99999):\n",
    "    \"\"\"\n",
    "        Args: WordPiece tokenized questions, torch tensors of token ids and segment ids and SQL data.\n",
    "        Computation: load pre-trained BERT model (weights),\n",
    "                     put the model in \"evaluation\" mode, meaning feed-forward operation.\n",
    "                     \"torch.no_grad()\" deactivates the gradient calculations, \n",
    "                     saves memory, and speeds up computation (we don't need gradients or backprop).\n",
    "        Return: dictionary that maps token ids (keys) \n",
    "                to their corresponding BERT context embeddings (values).\n",
    "    \"\"\"\n",
    "    #TODO: check what's necessary to ouput all hidden states\n",
    "    #model = BertModel.from_pretrained('bert-base-uncased',\n",
    "    #                              output_hidden_states=True,\n",
    "    #                              output_attentions=True)\n",
    "    \n",
    "    model = BertModel.from_pretrained('bert-base-uncased')    \n",
    "    model.eval()\n",
    "    id2embed = dict()\n",
    "    id2tok = dict()\n",
    "    rejoined_toks = list()\n",
    "    rejoined_ids = list()\n",
    "    retokenizer = Retokenizer(merge=merge, embeddings=True)\n",
    "    with torch.no_grad():\n",
    "        for i, (question, bert_question, bert_id, segment_id) in enumerate(zip(sql_data, bert_questions, bert_ids, segment_ids)):\n",
    "            bert_embeddings = model(bert_id, segment_id)[0][0]\n",
    "            bert_embeddings = np.array(list(map(lambda embedding:embedding.numpy(), bert_embeddings)))\n",
    "\n",
    "            #TODO: make \"get_summed_embeddings\" function work\n",
    "            #token_embeddings = get_summed_embeddings(model, tok_id, segment_id)\n",
    "            \n",
    "            bert_id = list(bert_id[0].numpy())\n",
    "            \n",
    "            # add [CLS] and [SEP] tokens\n",
    "            if bert_id[0] not in id2tok:\n",
    "                id2tok[bert_id[0]]=bert_question[0]\n",
    "            if bert_id[-1] not in id2tok:\n",
    "                id2tok[bert_id[-1]]=bert_question[-1]\n",
    "            if bert_id[0] not in id2embed:\n",
    "                id2embed[bert_id[0]]=bert_embeddings[0]\n",
    "            if bert_id[-1] not in id2embed:\n",
    "                id2embed[bert_id[-1]]=bert_embeddings[-1]\n",
    "                \n",
    "            new_toks, new_ids, new_embeddings, new_id = retokenizer.retokenize(question['question_tok'], \n",
    "                                                                               bert_question[1:-1], \n",
    "                                                                               bert_id[1:-1], \n",
    "                                                                               arbitrary_id,\n",
    "                                                                               bert_embeddings[1:-1])\n",
    "            \n",
    "            arbitrary_id = new_id   \n",
    "            try:\n",
    "                assert len(new_ids) == len(new_toks) == len(new_embeddings) == len(question['question_tok'])\n",
    "                for tok_id, bert_tok, bert_embedding in zip(new_ids, new_toks, new_embeddings):\n",
    "                    if tok_id not in id2embed:\n",
    "                        id2embed[tok_id] = bert_embedding\n",
    "                    if tok_id not in id2tok:\n",
    "                        id2tok[tok_id] = bert_tok\n",
    "            except AssertionError:\n",
    "                pass\n",
    "            \n",
    "            rejoined_toks.append(new_toks)\n",
    "            rejoined_ids.append(new_ids)\n",
    "            \n",
    "    return rejoined_toks, rejoined_ids, id2embed, id2tok"
   ]
  },
  {
   "cell_type": "code",
   "execution_count": 10,
   "metadata": {
    "ExecuteTime": {
     "end_time": "2019-09-18T15:07:09.503899Z",
     "start_time": "2019-09-18T15:07:09.485899Z"
    },
    "code_folding": [
     0
    ]
   },
   "outputs": [],
   "source": [
    "def drop_data(tok_questions, tok_ids, sql_data, idx_to_drop):\n",
    "    k = 0\n",
    "    n_errors = len(idx_to_drop)\n",
    "    n_questions = len(sql_data)\n",
    "    for idx in idx_to_drop:\n",
    "        tok_questions.pop(idx-k)\n",
    "        tok_ids.pop(idx-k)\n",
    "        sql_data.pop(idx-k)\n",
    "        k += 1\n",
    "    assert len(sql_data) == n_questions-n_errors, 'incorrect number of erroneous questions was dropped'\n",
    "    return tok_questions, tok_ids, sql_data"
   ]
  },
  {
   "cell_type": "code",
   "execution_count": 11,
   "metadata": {
    "ExecuteTime": {
     "end_time": "2019-09-18T15:07:18.848080Z",
     "start_time": "2019-09-18T15:07:18.829970Z"
    },
    "code_folding": [
     0
    ]
   },
   "outputs": [],
   "source": [
    "def update_sql_data(sql_data):\n",
    "    \"\"\"\n",
    "        Input: SQL dataset\n",
    "        Output: Updated SQL dataset with bert tokens and corresponding bert ids\n",
    "                BERT tokens were rejoined into TypeSQL's gold standard tokens and\n",
    "                hence are the same\n",
    "    \"\"\"\n",
    "    bert_questions, bert_ids, _, _ = bert_preprocessing(extract_questions(sql_data))\n",
    "    tok_questions, tok_ids = bert_token_ids(sql_data, bert_questions, bert_ids)\n",
    "    idx_to_pop = list()\n",
    "    n_original_questions = len(sql_data)\n",
    "    print(\"Number of questions before computing BERT token representations:\", n_original_questions)\n",
    "    for i, (question, tok_id, tok_question) in enumerate(zip(sql_data, tok_ids, tok_questions)):\n",
    "        try:\n",
    "            assert len(question['question_tok']) == len(tok_id)  == len(tok_question)\n",
    "        except:\n",
    "            idx_to_pop.append(i)\n",
    "    \n",
    "    if len(idx_to_pop) > 0:   \n",
    "        tok_questions, tok_ids, sql_data = drop_data(tok_questions, tok_ids, sql_data, idx_to_pop) \n",
    "    \n",
    "    for i, (question, tok_id, tok_question) in enumerate(zip(sql_data, tok_ids, tok_questions)):\n",
    "        try:\n",
    "            assert len(sql_data[i]['question_tok']) == len(tok_id)  == len(tok_question)\n",
    "            sql_data[i]['bert_tokenized_question'] = tok_question\n",
    "            sql_data[i]['bert_token_ids'] = tok_id #list(tok_id[0].numpy())\n",
    "        except:\n",
    "            raise Exception(\"Removing incorrectly rejoined questions did not work. Check function!\")\n",
    "    \n",
    "    n_removed_questions = n_original_questions-len(sql_data)\n",
    "    \n",
    "    print(\"Number of questions in pre-processed dataset (after rejoining):\", len(sql_data))\n",
    "    print(\"Questions that could not be rejoined into TypeSQL tokens:\", n_removed_questions)\n",
    "    print(\"{}% of the original questions were removed\".format(round((n_removed_questions / n_original_questions)*100, 2)))\n",
    "    print(\"SQL data has been updated with BERT ids (tokens are the same as TypeSQL's tokens)...\")\n",
    "    return sql_data"
   ]
  },
  {
   "cell_type": "code",
   "execution_count": 12,
   "metadata": {
    "ExecuteTime": {
     "end_time": "2019-09-18T15:07:28.088869Z",
     "start_time": "2019-09-18T15:07:28.084859Z"
    },
    "code_folding": [
     0
    ]
   },
   "outputs": [],
   "source": [
    "#TODO: figure out whether this function is actually necessary (maybe you want to keep those questions)\n",
    "def remove_nonequal_questions(sql_data):\n",
    "    count = 0\n",
    "    for i, question in enumerate(sql_data):\n",
    "        try:\n",
    "            assert question['question_tok'] == question['bert_tokenized_question']\n",
    "        except AssertionError:\n",
    "            sql_data.pop(i)\n",
    "            #print(question['question_tok'])\n",
    "            #print()\n",
    "            #print(question['bert_tokenized_question'])\n",
    "            #print()\n",
    "            count += 1\n",
    "    print(\"{} questions had different tokens and thus were removed from dataset\".format(count))\n",
    "    return sql_data"
   ]
  },
  {
   "cell_type": "code",
   "execution_count": null,
   "metadata": {
    "ExecuteTime": {
     "end_time": "2019-09-07T15:56:19.916243Z",
     "start_time": "2019-09-07T15:56:18.569583Z"
    }
   },
   "outputs": [],
   "source": [
    "sql_data_updated = update_sql_data(sql_data)"
   ]
  },
  {
   "cell_type": "code",
   "execution_count": null,
   "metadata": {
    "ExecuteTime": {
     "end_time": "2019-09-07T15:56:54.061884Z",
     "start_time": "2019-09-07T15:56:54.053859Z"
    }
   },
   "outputs": [],
   "source": [
    "#sql_data = remove_nonequal_questions(sql_data_updated)"
   ]
  },
  {
   "cell_type": "code",
   "execution_count": null,
   "metadata": {
    "ExecuteTime": {
     "end_time": "2019-09-07T15:57:30.443577Z",
     "start_time": "2019-09-07T15:57:29.023859Z"
    }
   },
   "outputs": [],
   "source": [
    "val_sql_data_updated = update_sql_data(val_sql_data)"
   ]
  },
  {
   "cell_type": "code",
   "execution_count": null,
   "metadata": {
    "ExecuteTime": {
     "end_time": "2019-09-07T15:58:05.505412Z",
     "start_time": "2019-09-07T15:58:05.497391Z"
    }
   },
   "outputs": [],
   "source": [
    "#val_sql_data = remove_nonequal_questions(val_sql_data_updated)"
   ]
  },
  {
   "cell_type": "code",
   "execution_count": null,
   "metadata": {
    "ExecuteTime": {
     "end_time": "2019-09-07T15:58:44.124872Z",
     "start_time": "2019-09-07T15:58:42.782669Z"
    },
    "scrolled": true
   },
   "outputs": [],
   "source": [
    "test_sql_data_updated = update_sql_data(test_sql_data)"
   ]
  },
  {
   "cell_type": "code",
   "execution_count": null,
   "metadata": {
    "ExecuteTime": {
     "end_time": "2019-09-07T15:59:21.101840Z",
     "start_time": "2019-09-07T15:59:21.093822Z"
    }
   },
   "outputs": [],
   "source": [
    "#test_sql_data = remove_nonequal_questions(test_sql_data_updated)"
   ]
  },
  {
   "cell_type": "code",
   "execution_count": 13,
   "metadata": {
    "ExecuteTime": {
     "end_time": "2019-09-18T15:07:37.548994Z",
     "start_time": "2019-09-18T15:07:37.541976Z"
    },
    "code_folding": [
     0
    ]
   },
   "outputs": [],
   "source": [
    "def bert_pipeline(sql_data_train, sql_data_val, sql_data_test, merge='avg'):\n",
    "    sql_data = concatenate_sql_data(sql_data_train, sql_data_val, sql_data_test)\n",
    "    tok_questions, tok_ids, segment_ids, _ = bert_preprocessing(extract_questions(sql_data))\n",
    "    _, _, id2embed, id2tok = bert_embeddings(tok_questions, tok_ids, segment_ids, sql_data, merge)\n",
    "    assert len(id2embed) == len(id2tok)\n",
    "    return id2tok, id2embed"
   ]
  },
  {
   "cell_type": "code",
   "execution_count": 9,
   "metadata": {
    "ExecuteTime": {
     "end_time": "2019-09-27T09:13:32.101030Z",
     "start_time": "2019-09-27T09:13:32.085990Z"
    },
    "code_folding": [
     0
    ]
   },
   "outputs": [],
   "source": [
    "def save_embeddings_as_json(id2tok, id2embed, merge, dim):\n",
    "    # np.arrays have to be converted into lists to be .json serializable\n",
    "    id2embed = {int(idx):embedding.tolist() for idx, embedding in id2embed.items()}\n",
    "    id2tok = {int(idx):tok for idx, tok in id2tok.items()}\n",
    "    if merge == 'max':\n",
    "        if dim == 'full':\n",
    "            embeddings = './bert/id2embedMaxFull.json'\n",
    "        elif dim == 600:\n",
    "            embeddings = './bert/id2embedMax600.json'\n",
    "        elif dim == 100:\n",
    "            embeddings = './bert/id2embedMax100.json'\n",
    "        ids = './bert/id2tokMax.json'\n",
    "    elif merge == 'avg':\n",
    "        if dim == 'full':\n",
    "            embeddings = './bert/id2embedMeanFull.json'\n",
    "        elif dim == 600:\n",
    "            embeddings = './bert/id2embedMean600.json'\n",
    "        elif dim == 100:\n",
    "            embeddings = './bert/id2embedMean100.json'\n",
    "        ids = './bert/id2tokMean.json'\n",
    "    elif merge == 'sum':\n",
    "        if dim == 'full':\n",
    "            embeddings = './bert/id2embedSumFull.json'\n",
    "        elif dim == 600:\n",
    "            embeddings = './bert/id2embedSum600.json'\n",
    "        elif dim == 100:\n",
    "            embeddings = './bert/id2embedSum100.json'\n",
    "        ids = './bert/id2tokSum.json' \n",
    "    else:\n",
    "        raise Exception('Embeddings have to be max-pooled, averaged or summed')\n",
    "    with open(embeddings, 'w') as json_file:\n",
    "        json.dump(id2embed, json_file)\n",
    "    with open(ids, 'w') as json_file:\n",
    "        json.dump(id2tok, json_file)"
   ]
  },
  {
   "cell_type": "code",
   "execution_count": 3,
   "metadata": {
    "ExecuteTime": {
     "end_time": "2019-09-27T07:00:08.204574Z",
     "start_time": "2019-09-27T07:00:08.198561Z"
    },
    "code_folding": [
     0
    ]
   },
   "outputs": [],
   "source": [
    "def load_bert_dicts(file_tok, file_emb):\n",
    "    with open(file_tok) as f:\n",
    "        id2tok = json.loads(f.read())\n",
    "    with open(file_emb) as f:\n",
    "        id2embed = json.loads(f.read())\n",
    "    id2tok = {int(idx):tok for idx, tok in id2tok.items()}\n",
    "    id2embed = {int(idx):np.array(embedding) for idx, embedding in id2embed.items()}\n",
    "    assert len(id2tok) == len(id2embed)\n",
    "    return id2tok, id2embed"
   ]
  },
  {
   "cell_type": "code",
   "execution_count": 4,
   "metadata": {
    "ExecuteTime": {
     "end_time": "2019-09-27T07:00:09.157310Z",
     "start_time": "2019-09-27T07:00:09.146283Z"
    },
    "code_folding": [
     0
    ]
   },
   "outputs": [],
   "source": [
    "def reduce_dimensionality(id2embed, dims_to_keep:int, split_embeds=False):\n",
    "    \"\"\"\n",
    "        Args: id2embedding dict; number of dimensions to keep (of original 768 BERT embeddings)\n",
    "        Return: id2embdding dict with reduced dimensionality embeddings specified by dims-to-keep \n",
    "    \"\"\"\n",
    "    ids = []\n",
    "    embeddings = np.zeros((len(id2embed), 768))\n",
    "    if dims_to_keep==600 and split_embeds:\n",
    "        embeddings_first = np.zeros((len(id2embed), 500))\n",
    "        embeddings_pca = np.zeros((len(id2embed), 268))\n",
    "        \n",
    "    id2embed = dict(sorted(id2embed.items(), key=lambda kv:kv[0], reverse=False))\n",
    "    for i, (idx, embedding) in enumerate(id2embed.items()):\n",
    "        ids.append(idx)\n",
    "        if dims_to_keep==600 and split_embeds:\n",
    "            embeddings_first[i]=embedding[:500]\n",
    "            embeddings_pca[i]=embedding[500:]\n",
    "        else:\n",
    "            embeddings[i] = embedding\n",
    "            \n",
    "    if dims_to_keep==600 and not split_embeds:\n",
    "        pca = PCA(n_components=600, svd_solver='auto', random_state=42)\n",
    "    else:\n",
    "        pca = PCA(n_components=100, svd_solver='auto', random_state=42)\n",
    "        \n",
    "    if dims_to_keep==600 and split_embeds:\n",
    "        embeddings_pca = pca.fit_transform(embeddings_pca)\n",
    "        embeddings = np.hstack((embeddings_first, embeddings_pca))\n",
    "        assert embeddings.shape[1]==600\n",
    "    else:\n",
    "        embeddings = pca.fit_transform(embeddings)\n",
    "    \n",
    "    id2embed_reduced = {idx:embedding for idx, embedding in zip(ids, embeddings)}\n",
    "    return id2embed_reduced"
   ]
  },
  {
   "cell_type": "code",
   "execution_count": 17,
   "metadata": {
    "ExecuteTime": {
     "end_time": "2019-09-18T17:06:33.494131Z",
     "start_time": "2019-09-18T15:08:16.027335Z"
    }
   },
   "outputs": [],
   "source": [
    "id2tok, id2embed = bert_pipeline(sql_data, val_sql_data, test_sql_data, merge='max')"
   ]
  },
  {
   "cell_type": "code",
   "execution_count": 8,
   "metadata": {
    "ExecuteTime": {
     "end_time": "2019-09-27T09:13:23.696779Z",
     "start_time": "2019-09-27T09:13:23.662688Z"
    }
   },
   "outputs": [
    {
     "ename": "NameError",
     "evalue": "name 'save_embeddings_as_json' is not defined",
     "output_type": "error",
     "traceback": [
      "\u001b[1;31m---------------------------------------------------------------------------\u001b[0m",
      "\u001b[1;31mNameError\u001b[0m                                 Traceback (most recent call last)",
      "\u001b[1;32m<ipython-input-8-dd5a9f63809e>\u001b[0m in \u001b[0;36m<module>\u001b[1;34m\u001b[0m\n\u001b[0;32m      1\u001b[0m \u001b[1;31m# first, save embeddings with full (768) dimensionality\u001b[0m\u001b[1;33m\u001b[0m\u001b[1;33m\u001b[0m\u001b[1;33m\u001b[0m\u001b[0m\n\u001b[1;32m----> 2\u001b[1;33m \u001b[0msave_embeddings_as_json\u001b[0m\u001b[1;33m(\u001b[0m\u001b[0mid2tok\u001b[0m\u001b[1;33m,\u001b[0m \u001b[0mid2embed\u001b[0m\u001b[1;33m,\u001b[0m \u001b[0mmerge\u001b[0m\u001b[1;33m=\u001b[0m\u001b[1;34m'max'\u001b[0m\u001b[1;33m,\u001b[0m \u001b[0mdim\u001b[0m\u001b[1;33m=\u001b[0m\u001b[1;34m'full'\u001b[0m\u001b[1;33m)\u001b[0m\u001b[1;33m\u001b[0m\u001b[1;33m\u001b[0m\u001b[0m\n\u001b[0m",
      "\u001b[1;31mNameError\u001b[0m: name 'save_embeddings_as_json' is not defined"
     ]
    }
   ],
   "source": [
    "# first, save embeddings with full (768) dimensionality\n",
    "save_embeddings_as_json(id2tok, id2embed, merge='max', dim='full')"
   ]
  },
  {
   "cell_type": "code",
   "execution_count": 19,
   "metadata": {
    "ExecuteTime": {
     "end_time": "2019-09-19T09:35:00.689241Z",
     "start_time": "2019-09-19T09:34:17.229820Z"
    }
   },
   "outputs": [],
   "source": [
    "id2embed600 = reduce_dimensionality(id2embed, 600)"
   ]
  },
  {
   "cell_type": "code",
   "execution_count": 20,
   "metadata": {
    "ExecuteTime": {
     "end_time": "2019-09-19T10:38:08.772297Z",
     "start_time": "2019-09-19T10:34:02.041555Z"
    }
   },
   "outputs": [],
   "source": [
    "# second, save embeddings with reduced (e.g., 600) dimensionality\n",
    "save_embeddings_as_json(id2tok, id2embed600, merge='max', dim=600)"
   ]
  },
  {
   "cell_type": "code",
   "execution_count": 22,
   "metadata": {
    "ExecuteTime": {
     "end_time": "2019-09-19T12:45:58.569187Z",
     "start_time": "2019-09-19T12:43:41.352758Z"
    }
   },
   "outputs": [],
   "source": [
    "id2embed100 = reduce_dimensionality(id2embed, 100)"
   ]
  },
  {
   "cell_type": "code",
   "execution_count": 23,
   "metadata": {
    "ExecuteTime": {
     "end_time": "2019-09-19T14:00:59.411591Z",
     "start_time": "2019-09-19T14:00:25.641695Z"
    },
    "code_folding": []
   },
   "outputs": [],
   "source": [
    "# second, save embeddings with reduced (e.g., 100) dimensionality\n",
    "save_embeddings_as_json(id2tok, id2embed100, merge='max', dim=100)"
   ]
  },
  {
   "cell_type": "code",
   "execution_count": 5,
   "metadata": {
    "ExecuteTime": {
     "end_time": "2019-09-27T07:02:30.814980Z",
     "start_time": "2019-09-27T07:00:11.307005Z"
    }
   },
   "outputs": [],
   "source": [
    "id2tokMax, id2embedMaxFull = load_bert_dicts(\"./bert/id2tokMax.json\", \"./bert/id2embedMaxFull.json\")"
   ]
  },
  {
   "cell_type": "code",
   "execution_count": 6,
   "metadata": {
    "ExecuteTime": {
     "end_time": "2019-09-27T07:12:17.129126Z",
     "start_time": "2019-09-27T07:12:10.664941Z"
    }
   },
   "outputs": [],
   "source": [
    "id2embed600 = reduce_dimensionality(id2embedMaxFull, 600, split_embeds=True)"
   ]
  },
  {
   "cell_type": "code",
   "execution_count": null,
   "metadata": {
    "ExecuteTime": {
     "start_time": "2019-09-27T09:13:35.224Z"
    }
   },
   "outputs": [],
   "source": [
    "# second, save embeddings with reduced (e.g., 600) dimensionality\n",
    "save_embeddings_as_json(id2tokMax, id2embed600, merge='max', dim=600)"
   ]
  },
  {
   "cell_type": "code",
   "execution_count": null,
   "metadata": {
    "ExecuteTime": {
     "start_time": "2019-09-27T09:13:38.390Z"
    }
   },
   "outputs": [],
   "source": [
    "id2tokMean, id2embedMeanFull = load_bert_dicts(\"./bert/id2tokMean.json\", \"./bert/id2embedMeanFull.json\")"
   ]
  },
  {
   "cell_type": "code",
   "execution_count": null,
   "metadata": {
    "ExecuteTime": {
     "start_time": "2019-09-27T09:13:39.148Z"
    }
   },
   "outputs": [],
   "source": [
    "id2embed600 = reduce_dimensionality(id2embedMeanFull, 600, split_embeds=True)"
   ]
  },
  {
   "cell_type": "code",
   "execution_count": null,
   "metadata": {
    "ExecuteTime": {
     "start_time": "2019-09-27T09:13:40.161Z"
    }
   },
   "outputs": [],
   "source": [
    "# second, save embeddings with reduced (e.g., 600) dimensionality\n",
    "save_embeddings_as_json(id2tokMean, id2embed600, merge='avg', dim=600)"
   ]
  }
 ],
 "metadata": {
  "hide_input": false,
  "kernelspec": {
   "display_name": "Python 3",
   "language": "python",
   "name": "python3"
  },
  "language_info": {
   "codemirror_mode": {
    "name": "ipython",
    "version": 3
   },
   "file_extension": ".py",
   "mimetype": "text/x-python",
   "name": "python",
   "nbconvert_exporter": "python",
   "pygments_lexer": "ipython3",
   "version": "3.7.3"
  },
  "latex_envs": {
   "LaTeX_envs_menu_present": true,
   "autoclose": false,
   "autocomplete": true,
   "bibliofile": "biblio.bib",
   "cite_by": "apalike",
   "current_citInitial": 1,
   "eqLabelWithNumbers": true,
   "eqNumInitial": 1,
   "hotkeys": {
    "equation": "Ctrl-E",
    "itemize": "Ctrl-I"
   },
   "labels_anchors": false,
   "latex_user_defs": false,
   "report_style_numbering": false,
   "user_envs_cfg": false
  },
  "toc": {
   "base_numbering": 1,
   "nav_menu": {},
   "number_sections": true,
   "sideBar": true,
   "skip_h1_title": false,
   "title_cell": "Table of Contents",
   "title_sidebar": "Contents",
   "toc_cell": false,
   "toc_position": {},
   "toc_section_display": true,
   "toc_window_display": false
  },
  "varInspector": {
   "cols": {
    "lenName": 16,
    "lenType": 16,
    "lenVar": 40
   },
   "kernels_config": {
    "python": {
     "delete_cmd_postfix": "",
     "delete_cmd_prefix": "del ",
     "library": "var_list.py",
     "varRefreshCmd": "print(var_dic_list())"
    },
    "r": {
     "delete_cmd_postfix": ") ",
     "delete_cmd_prefix": "rm(",
     "library": "var_list.r",
     "varRefreshCmd": "cat(var_dic_list()) "
    }
   },
   "types_to_exclude": [
    "module",
    "function",
    "builtin_function_or_method",
    "instance",
    "_Feature"
   ],
   "window_display": false
  }
 },
 "nbformat": 4,
 "nbformat_minor": 2
}
